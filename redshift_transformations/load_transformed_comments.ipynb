{
 "cells": [
  {
   "cell_type": "code",
   "execution_count": 4,
   "metadata": {},
   "outputs": [],
   "source": [
    "import configparser\n",
    "from pathlib import Path\n",
    "import os\n",
    "from psycopg2 import sql\n",
    "import psycopg2"
   ]
  },
  {
   "cell_type": "code",
   "execution_count": 2,
   "metadata": {},
   "outputs": [
    {
     "data": {
      "text/plain": [
       "['c:\\\\Users\\\\hares\\\\singaporesub\\\\config.conf']"
      ]
     },
     "execution_count": 2,
     "metadata": {},
     "output_type": "execute_result"
    }
   ],
   "source": [
    "path = Path(__vsc_ipynb_file__)\n",
    "ROOT_DIR = path.parent.parent.absolute()\n",
    "config_path = os.path.join(ROOT_DIR, \"config.conf\")\n",
    "\n",
    "config = configparser.ConfigParser()\n",
    "config.read(config_path)"
   ]
  },
  {
   "cell_type": "code",
   "execution_count": 3,
   "metadata": {},
   "outputs": [],
   "source": [
    "USERNAME = config.get(\"redshift_config\", \"redshift_username\")\n",
    "PASSWORD = config.get(\"redshift_config\", \"redshift_password\")\n",
    "HOST = config.get(\"redshift_config\", \"redshift_hostname\")\n",
    "PORT = config.get(\"redshift_config\", \"redshift_port\")\n",
    "DATABASE = config.get(\"redshift_config\", \"redshift_database\")\n"
   ]
  },
  {
   "cell_type": "code",
   "execution_count": 55,
   "metadata": {},
   "outputs": [],
   "source": [
    "sql_create_comments_fact_table = sql.SQL(\"\"\"\n",
    "CREATE TABLE comments_fact (\n",
    "\"comment_id\" VARCHAR(7) NOT NULL,\n",
    "\"post_id\" VARCHAR(6) NOT NULL,\n",
    "\"author_id\" VARCHAR(10),\n",
    "\"body\" VARCHAR(700),\n",
    "\"created_date\" TIMESTAMPTZ ,\n",
    "\"score\" INT,\n",
    "\"edited\" BOOLEAN default False,\n",
    "\"compound\" DECIMAL(5,4),\n",
    "\"comp_score\" VARCHAR(4)\n",
    ")\n",
    "\n",
    "\"\"\")"
   ]
  },
  {
   "cell_type": "code",
   "execution_count": 56,
   "metadata": {},
   "outputs": [],
   "source": [
    "sql_load_comments = sql.SQL(\"\"\"\n",
    "   COPY comments_fact (comment_id,post_id,author_id,body,created_date,score,edited,compound,comp_score) \n",
    "   FROM 's3://comments-transformed-bucket/transformed_comments.csv'  credentials 'aws_iam_role=arn:aws:iam::075207432376:role/REDHSIFTACESS'\n",
    "FORMAT AS CSV DELIMITER ',' QUOTE '\"'\n",
    "region 'ap-southeast-1'\n",
    "\n",
    " IGNOREHEADER 1                   \n",
    "       \n",
    "                            \n",
    "                            \n",
    "                            \n",
    "                            \n",
    "                            \"\"\")"
   ]
  },
  {
   "cell_type": "code",
   "execution_count": 57,
   "metadata": {},
   "outputs": [],
   "source": [
    "def connect_to_redshift():\n",
    "    try:\n",
    "        rs_wh = psycopg2.connect(dbname = DATABASE , user = USERNAME , password = PASSWORD , host = HOST , port = PORT)\n",
    "        rs_wh.autocommit = True\n",
    "\n",
    "        return rs_wh\n",
    "    except Exception as e:\n",
    "        print(f\"Unable to connect to Redshift. Error {e}\")\n",
    "        sys.exit(1)"
   ]
  },
  {
   "cell_type": "code",
   "execution_count": 59,
   "metadata": {},
   "outputs": [],
   "source": [
    "def main():\n",
    "    rs_conn = connect_to_redshift().cursor()\n",
    "    rs_conn.execute(sql_create_comments_fact_table)\n",
    "    rs_conn.execute(sql_load_comments)"
   ]
  },
  {
   "cell_type": "markdown",
   "metadata": {},
   "source": []
  },
  {
   "cell_type": "code",
   "execution_count": 60,
   "metadata": {},
   "outputs": [
    {
     "ename": "InternalError_",
     "evalue": "Load into table 'comments_fact' failed.  Check 'stl_load_errors' system table for details.\n",
     "output_type": "error",
     "traceback": [
      "\u001b[1;31m---------------------------------------------------------------------------\u001b[0m",
      "\u001b[1;31mInternalError_\u001b[0m                            Traceback (most recent call last)",
      "\u001b[1;32mc:\\Users\\hares\\singaporesub\\redshift_transformations\\load_transformed_comments.ipynb Cell 9\u001b[0m in \u001b[0;36m<cell line: 1>\u001b[1;34m()\u001b[0m\n\u001b[0;32m      <a href='vscode-notebook-cell:/c%3A/Users/hares/singaporesub/redshift_transformations/load_transformed_comments.ipynb#ch0000007?line=0'>1</a>\u001b[0m \u001b[39mif\u001b[39;00m \u001b[39m__name__\u001b[39m \u001b[39m==\u001b[39m \u001b[39m\"\u001b[39m\u001b[39m__main__\u001b[39m\u001b[39m\"\u001b[39m:\n\u001b[1;32m----> <a href='vscode-notebook-cell:/c%3A/Users/hares/singaporesub/redshift_transformations/load_transformed_comments.ipynb#ch0000007?line=1'>2</a>\u001b[0m     main()\n",
      "\u001b[1;32mc:\\Users\\hares\\singaporesub\\redshift_transformations\\load_transformed_comments.ipynb Cell 9\u001b[0m in \u001b[0;36mmain\u001b[1;34m()\u001b[0m\n\u001b[0;32m      <a href='vscode-notebook-cell:/c%3A/Users/hares/singaporesub/redshift_transformations/load_transformed_comments.ipynb#ch0000007?line=1'>2</a>\u001b[0m rs_conn \u001b[39m=\u001b[39m connect_to_redshift()\u001b[39m.\u001b[39mcursor()\n\u001b[0;32m      <a href='vscode-notebook-cell:/c%3A/Users/hares/singaporesub/redshift_transformations/load_transformed_comments.ipynb#ch0000007?line=2'>3</a>\u001b[0m rs_conn\u001b[39m.\u001b[39mexecute(sql_create_comments_fact_table)\n\u001b[1;32m----> <a href='vscode-notebook-cell:/c%3A/Users/hares/singaporesub/redshift_transformations/load_transformed_comments.ipynb#ch0000007?line=3'>4</a>\u001b[0m rs_conn\u001b[39m.\u001b[39;49mexecute(sql_load_comments)\n",
      "\u001b[1;31mInternalError_\u001b[0m: Load into table 'comments_fact' failed.  Check 'stl_load_errors' system table for details.\n"
     ]
    }
   ],
   "source": [
    "if __name__ == \"__main__\":\n",
    "    main()"
   ]
  },
  {
   "cell_type": "code",
   "execution_count": null,
   "metadata": {},
   "outputs": [],
   "source": [
    "``"
   ]
  },
  {
   "cell_type": "code",
   "execution_count": null,
   "metadata": {},
   "outputs": [],
   "source": []
  },
  {
   "cell_type": "code",
   "execution_count": null,
   "metadata": {},
   "outputs": [],
   "source": []
  }
 ],
 "metadata": {
  "kernelspec": {
   "display_name": "Python 3.10.5 64-bit",
   "language": "python",
   "name": "python3"
  },
  "language_info": {
   "codemirror_mode": {
    "name": "ipython",
    "version": 3
   },
   "file_extension": ".py",
   "mimetype": "text/x-python",
   "name": "python",
   "nbconvert_exporter": "python",
   "pygments_lexer": "ipython3",
   "version": "3.10.5"
  },
  "orig_nbformat": 4,
  "vscode": {
   "interpreter": {
    "hash": "d64bf8c1f77516defb4fb4ab4f063b0bc722209f576d0ea7fbdd74a3494d5225"
   }
  }
 },
 "nbformat": 4,
 "nbformat_minor": 2
}
