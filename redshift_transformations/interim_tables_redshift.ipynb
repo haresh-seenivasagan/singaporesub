{
 "cells": [
  {
   "cell_type": "code",
   "execution_count": 193,
   "metadata": {},
   "outputs": [],
   "source": [
    "import configparser\n",
    "from pathlib import Path\n",
    "import os\n",
    "from psycopg2 import sql\n",
    "import psycopg2\n"
   ]
  },
  {
   "cell_type": "code",
   "execution_count": 194,
   "metadata": {},
   "outputs": [
    {
     "data": {
      "text/plain": [
       "['c:\\\\Users\\\\hares\\\\singaporesub\\\\config.conf']"
      ]
     },
     "execution_count": 194,
     "metadata": {},
     "output_type": "execute_result"
    }
   ],
   "source": [
    "path = Path(__vsc_ipynb_file__)\n",
    "ROOT_DIR = path.parent.parent.absolute()\n",
    "config_path = os.path.join(ROOT_DIR, \"config.conf\")\n",
    "\n",
    "config = configparser.ConfigParser()\n",
    "config.read(config_path)"
   ]
  },
  {
   "cell_type": "code",
   "execution_count": 195,
   "metadata": {},
   "outputs": [],
   "source": [
    "USERNAME = config.get(\"redshift_config\", \"redshift_username\")\n",
    "PASSWORD = config.get(\"redshift_config\", \"redshift_password\")\n",
    "HOST = config.get(\"redshift_config\", \"redshift_hostname\")\n",
    "PORT = config.get(\"redshift_config\", \"redshift_port\")\n",
    "DATABASE = config.get(\"redshift_config\", \"redshift_database\")"
   ]
  },
  {
   "cell_type": "code",
   "execution_count": 196,
   "metadata": {},
   "outputs": [],
   "source": [
    "sql_create_interim_comments_table = sql.SQL(\"\"\"\n",
    "DROP TABLE IF EXISTS comments_interim;\n",
    "CREATE TABLE comments_interim (\n",
    "\"comment_id\" VARCHAR(7) NOT NULL,\n",
    "\"post_id\" VARCHAR(6) NOT NULL,\n",
    "\"author_id\" VARCHAR(10),\n",
    "\"body\" VARCHAR(10000),\n",
    "\"created_date\" TIMESTAMPTZ ,\n",
    "\"score\" INT,\n",
    "\"edited\" VARCHAR ,\n",
    "\"compound\" DECIMAL(5,4),\n",
    "\"comp_score\" VARCHAR(4)\n",
    ")\n",
    "\"\"\")\n",
    "sql_load_comments_interim = sql.SQL(\"\"\"\n",
    "   COPY comments_interim (comment_id,post_id,author_id,body,created_date,score,edited,compound,comp_score) \n",
    "   FROM 's3://comments-transformed-bucket/transformed_comments.csv'  credentials 'aws_iam_role=arn:aws:iam::075207432376:role/REDHSIFTACESS'\n",
    "FORMAT AS CSV DELIMITER ',' QUOTE '\"'\n",
    "region 'ap-southeast-1'\n",
    "\n",
    " IGNOREHEADER 1        \n",
    " \"\"\")                                     \n"
   ]
  },
  {
   "cell_type": "code",
   "execution_count": 197,
   "metadata": {},
   "outputs": [],
   "source": [
    "sql_create_post_interim = sql.SQL(\"\"\"\n",
    "DROP TABLE IF EXISTS post_interim;                                \n",
    "CREATE TABLE post_interim (\n",
    "    \"post_id\" VARCHAR(6) NOT NULL ,\n",
    "    \"author_id\"  VARCHAR(10) ,\n",
    "    \"created_time\" TIMESTAMPTZ NOT NULL,\n",
    "    \"flair\" VARCHAR(120) NOT NULL,\n",
    "    \"title\" TEXT,\n",
    "    \"body\" TEXT default NULL,\n",
    "    \"num_comments\" SMALLINT,\n",
    "    \"upvote_ratio\" decimal(3,2) NOT NULL,\n",
    "    \"score\" INT NOT NULL,\n",
    "    \"url\" TEXT,\n",
    "    \"distinguised\" BOOLEAN default False,\n",
    "    \"is_original_content\" BOOLEAN default False,\n",
    "    \"over_18\" BOOLEAN default False,\n",
    "    PRIMARY KEY(post_id),\n",
    "    FOREIGN KEY(author_id) references Author_Dim(author_id)\n",
    ")\n",
    "\"\"\")\n",
    "\n",
    "sql_load_post_interim= sql.SQL(\"\"\"\n",
    "                       \n",
    "COPY post_interim (title, body, post_id, score, upvote_ratio, flair, created_time, num_comments, author_id, url ,distinguised, is_original_content, over_18) FROM 's3://initial-data-load-bucket/test_posts_12_null.csv' IAM_ROLE 'arn:aws:iam::075207432376:role/REDHSIFTACESS' FORMAT AS CSV DELIMITER ',' QUOTE '\"' REGION AS 'ap-southeast-1'\n",
    "IGNOREHEADER 1                                                                            \n",
    "\"\"\")\n"
   ]
  },
  {
   "cell_type": "code",
   "execution_count": 198,
   "metadata": {},
   "outputs": [],
   "source": [
    "sql_create_author_post_interim = sql.SQL(\"\"\"\n",
    "DROP TABLE IF EXISTS post_author_interim;\n",
    "CREATE TABLE post_author_interim (\n",
    "    \"author_id\" VARCHAR(10) NOT NULL ,\n",
    "    \"acc_creation_date\" TIMESTAMPTZ NOT NULL ,\n",
    "    \"author_name\" VARCHAR(20) ,\n",
    "    \"link_flair\" INT,\n",
    "    \"comment_karma\" INT,\n",
    "    \"is_gold\" BOOLEAN default False,\n",
    "    \"is_mod\" BOOLEAN default False,\n",
    "    \"is_employee\" BOOLEAN default False,\n",
    "    PRIMARY KEY(author_id)\n",
    ")\n",
    "\"\"\")\n",
    "sql_load_author_post_interim = sql.SQL(\"\"\"\n",
    "\n",
    "COPY post_author_interim (author_id, author_name, link_flair, comment_karma, acc_creation_date, is_gold, is_mod, is_employee)FROM 's3://initial-data-load-bucket/test_author_12.csv'  credentials 'aws_iam_role=arn:aws:iam::075207432376:role/REDHSIFTACESS'\n",
    "FORMAT AS CSV DELIMITER ',' QUOTE '\"'\n",
    "region 'ap-southeast-1'\n",
    "\n",
    " IGNOREHEADER 1\n",
    ";\n",
    "\n",
    "\"\"\")"
   ]
  },
  {
   "cell_type": "code",
   "execution_count": 199,
   "metadata": {},
   "outputs": [],
   "source": [
    "sql_create_author_comment_interim = sql.SQL(\"\"\"\n",
    "DROP TABLE IF EXISTS comment_author_interim;\n",
    "CREATE TABLE comment_author_interim (\n",
    "    \"author_id\" VARCHAR(10) NOT NULL ,\n",
    "    \"comment_id\" VARCHAR(7) ,\n",
    "    \"post_id\" VARCHAR(6),\n",
    "    \"acc_creation_date\" TIMESTAMPTZ NOT NULL ,\n",
    "    \"author_name\" VARCHAR(20) ,\n",
    "    \"link_flair\" INT,\n",
    "    \"comment_karma\" INT,\n",
    "    \"is_gold\" BOOLEAN default False,\n",
    "    \"is_mod\" BOOLEAN default False,\n",
    "    \"is_employee\" BOOLEAN default False,\n",
    "    PRIMARY KEY(author_id)\n",
    ")\n",
    "\"\"\")\n",
    "sql_load_author_comment_interim = sql.SQL(\"\"\"\n",
    "\n",
    "COPY comment_author_interim (author_id, comment_id ,post_id,author_name, link_flair, comment_karma, acc_creation_date, is_gold, is_mod, is_employee)FROM 's3://initial-data-load-bucket/comments_author_july19.csv'  credentials 'aws_iam_role=arn:aws:iam::075207432376:role/REDHSIFTACESS'\n",
    "FORMAT AS CSV DELIMITER ',' QUOTE '\"'\n",
    "region 'ap-southeast-1'\n",
    "\n",
    " IGNOREHEADER 1\n",
    "\n",
    ";\n",
    "\"\"\"\n",
    ")\n"
   ]
  },
  {
   "cell_type": "code",
   "execution_count": 200,
   "metadata": {},
   "outputs": [],
   "source": [
    "def connect_to_redshift():\n",
    "    try:\n",
    "        rs_wh = psycopg2.connect(dbname = DATABASE , user = USERNAME , password = PASSWORD , host = HOST , port = PORT)\n",
    "        rs_wh.autocommit = True\n",
    "\n",
    "        return rs_wh\n",
    "    except Exception as e:\n",
    "        print(f\"Unable to connect to Redshift. Error {e}\")\n",
    "        sys.exit(1)"
   ]
  },
  {
   "cell_type": "code",
   "execution_count": 201,
   "metadata": {},
   "outputs": [],
   "source": [
    "def create_and_fill_comments_interim(rs_conn):\n",
    "    rs_conn.execute(sql_create_interim_comments_table)\n",
    "    rs_conn.execute(sql_load_comments_interim)\n",
    "\n",
    "def create_and_fill_post_interim(rs_conn):\n",
    "    rs_conn.execute(sql_create_post_interim)\n",
    "    rs_conn.execute(sql_load_post_interim)\n",
    "def create_and_fill_author_post_interim(rs_conn):\n",
    "    rs_conn.execute(sql_create_author_post_interim)\n",
    "    rs_conn.execute(sql_load_author_post_interim)\n",
    "def create_and_fill_author_comment_interim(rs_conn):\n",
    "    rs_conn.execute(sql_create_author_comment_interim)\n",
    "    rs_conn.execute(sql_load_author_comment_interim)"
   ]
  },
  {
   "cell_type": "code",
   "execution_count": 202,
   "metadata": {},
   "outputs": [],
   "source": [
    "def main():\n",
    "    rs_conn = connect_to_redshift().cursor()\n",
    "    create_and_fill_comments_interim(rs_conn)\n",
    "    create_and_fill_post_interim(rs_conn)\n",
    "    create_and_fill_author_post_interim(rs_conn)\n",
    "    create_and_fill_author_comment_interim(rs_conn)\n",
    "    "
   ]
  },
  {
   "cell_type": "code",
   "execution_count": 203,
   "metadata": {},
   "outputs": [],
   "source": [
    "main()"
   ]
  },
  {
   "cell_type": "code",
   "execution_count": null,
   "metadata": {},
   "outputs": [],
   "source": []
  },
  {
   "cell_type": "code",
   "execution_count": null,
   "metadata": {},
   "outputs": [],
   "source": []
  },
  {
   "cell_type": "code",
   "execution_count": null,
   "metadata": {},
   "outputs": [],
   "source": []
  },
  {
   "cell_type": "code",
   "execution_count": null,
   "metadata": {},
   "outputs": [],
   "source": []
  }
 ],
 "metadata": {
  "kernelspec": {
   "display_name": "Python 3.10.5 64-bit",
   "language": "python",
   "name": "python3"
  },
  "language_info": {
   "codemirror_mode": {
    "name": "ipython",
    "version": 3
   },
   "file_extension": ".py",
   "mimetype": "text/x-python",
   "name": "python",
   "nbconvert_exporter": "python",
   "pygments_lexer": "ipython3",
   "version": "3.10.5"
  },
  "orig_nbformat": 4,
  "vscode": {
   "interpreter": {
    "hash": "d64bf8c1f77516defb4fb4ab4f063b0bc722209f576d0ea7fbdd74a3494d5225"
   }
  }
 },
 "nbformat": 4,
 "nbformat_minor": 2
}
