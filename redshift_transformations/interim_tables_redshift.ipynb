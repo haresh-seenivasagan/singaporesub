{
 "cells": [
  {
   "cell_type": "code",
   "execution_count": 3,
   "metadata": {},
   "outputs": [],
   "source": [
    "import configparser\n",
    "from pathlib import Path\n",
    "import os\n",
    "from psycopg2 import sql\n",
    "import psycopg2\n",
    "import sys\n"
   ]
  },
  {
   "cell_type": "code",
   "execution_count": 9,
   "metadata": {},
   "outputs": [],
   "source": [
    "date = sys.argv[1]\n",
    "AUTHORFILE = f\"{date}_author.csv\"\n",
    "POSTSFILE = f\"{date}_posts.csv\"\n",
    "COMMENTSFILE = f\"{date}_comments.csv\"\n",
    "COMMENT_AUTHORFILE = f\"{date}_comments_transformed.csv\""
   ]
  },
  {
   "cell_type": "code",
   "execution_count": 6,
   "metadata": {},
   "outputs": [
    {
     "data": {
      "text/plain": [
       "['/media/user/volume2/students/s121md210_02/singaporesub/config.conf']"
      ]
     },
     "execution_count": 6,
     "metadata": {},
     "output_type": "execute_result"
    }
   ],
   "source": [
    "path = Path(__vsc_ipynb_file__)\n",
    "ROOT_DIR = path.parent.parent.absolute()\n",
    "config_path = os.path.join(ROOT_DIR, \"config.conf\")\n",
    "\n",
    "config = configparser.ConfigParser()\n",
    "config.read(config_path)"
   ]
  },
  {
   "cell_type": "code",
   "execution_count": 7,
   "metadata": {},
   "outputs": [],
   "source": [
    "USERNAME = config.get(\"redshift_config\", \"redshift_username\")\n",
    "PASSWORD = config.get(\"redshift_config\", \"redshift_password\")\n",
    "HOST = config.get(\"redshift_config\", \"redshift_hostname\")\n",
    "PORT = config.get(\"redshift_config\", \"redshift_port\")\n",
    "DATABASE = config.get(\"redshift_config\", \"redshift_database\")"
   ]
  },
  {
   "cell_type": "code",
   "execution_count": 10,
   "metadata": {},
   "outputs": [],
   "source": [
    "sql_create_interim_comments_table = sql.SQL(\"\"\"\n",
    "DROP TABLE IF EXISTS comments_interim;\n",
    "CREATE TABLE comments_interim (\n",
    "\"comment_id\" VARCHAR(7) NOT NULL,\n",
    "\"post_id\" VARCHAR(6) NOT NULL,\n",
    "\"author_id\" VARCHAR(10),\n",
    "\"body\" VARCHAR(10000),\n",
    "\"created_date\" TIMESTAMPTZ ,\n",
    "\"score\" INT,\n",
    "\"edited\" VARCHAR ,\n",
    "\"compound\" DECIMAL(5,4),\n",
    "\"comp_score\" VARCHAR(4),\n",
    "PRIMARY KEY(comment_id)\n",
    ")\n",
    "\"\"\")\n",
    "sql_load_comments_interim = sql.SQL(f\"\"\"\n",
    "   COPY comments_interim (comment_id,post_id,author_id,body,created_date,score,edited,compound,comp_score) \n",
    "   FROM 's3://comments-transformed-bucket/{COMMENT_AUTHORFILE}'  credentials 'aws_iam_role=arn:aws:iam::075207432376:role/REDHSIFTACESS'\n",
    "FORMAT AS CSV DELIMITER ',' QUOTE '\"'\n",
    "region 'ap-southeast-1'\n",
    "\n",
    " IGNOREHEADER 1        \n",
    " \"\"\")                                     \n"
   ]
  },
  {
   "cell_type": "code",
   "execution_count": 11,
   "metadata": {},
   "outputs": [],
   "source": [
    "sql_create_post_interim = sql.SQL(\"\"\"\n",
    "DROP TABLE IF EXISTS post_interim;                                \n",
    "CREATE TABLE post_interim (\n",
    "    \"post_id\" VARCHAR(6) NOT NULL ,\n",
    "    \"author_id\"  VARCHAR(10) ,\n",
    "    \"created_time\" TIMESTAMPTZ NOT NULL,\n",
    "    \"flair\" VARCHAR(120) NOT NULL,\n",
    "    \"title\" TEXT,\n",
    "    \"body\" varchar(40000) default NULL,\n",
    "    \"num_comments\" SMALLINT,\n",
    "    \"upvote_ratio\" decimal(3,2) NOT NULL,\n",
    "    \"score\" INT NOT NULL,\n",
    "    \"url\" VARCHAR(2000),\n",
    "    \"distinguised\" BOOLEAN default False,\n",
    "    \"is_original_content\" BOOLEAN default False,\n",
    "    \"over_18\" BOOLEAN default False,\n",
    "    PRIMARY KEY(post_id)\n",
    ")\n",
    "\"\"\")\n",
    "\n",
    "sql_load_post_interim= sql.SQL(f\"\"\"\n",
    "                       \n",
    "COPY post_interim (title, body, post_id, score, upvote_ratio, flair, created_time, num_comments, author_id, url ,distinguised, is_original_content, over_18) FROM 's3://initial-data-load-bucket/{POSTSFILE}' IAM_ROLE 'arn:aws:iam::075207432376:role/REDHSIFTACESS' FORMAT AS CSV DELIMITER ',' QUOTE '\"' REGION AS 'ap-southeast-1'\n",
    "IGNOREHEADER 1                                                                            \n",
    "\"\"\")\n"
   ]
  },
  {
   "cell_type": "code",
   "execution_count": 12,
   "metadata": {},
   "outputs": [],
   "source": [
    "sql_create_author_post_interim = sql.SQL(\"\"\"\n",
    "DROP TABLE IF EXISTS post_author_interim;\n",
    "CREATE TABLE post_author_interim (\n",
    "    \"author_id\" VARCHAR(10) NOT NULL ,\n",
    "    \"acc_creation_date\" TIMESTAMPTZ NOT NULL ,\n",
    "    \"author_name\" VARCHAR(20) ,\n",
    "    \"link_flair\" INT,\n",
    "    \"comment_karma\" INT,\n",
    "    \"is_gold\" BOOLEAN default False,\n",
    "    \"is_mod\" BOOLEAN default False,\n",
    "    \"is_employee\" BOOLEAN default False,\n",
    "    PRIMARY KEY(author_id)\n",
    ")\n",
    "\"\"\")\n",
    "sql_load_author_post_interim = sql.SQL(f\"\"\"\n",
    "\n",
    "COPY post_author_interim (author_id, author_name, link_flair, comment_karma, acc_creation_date, is_gold, is_mod, is_employee)FROM 's3://initial-data-load-bucket/{AUTHORFILE}'  credentials 'aws_iam_role=arn:aws:iam::075207432376:role/REDHSIFTACESS'\n",
    "FORMAT AS CSV DELIMITER ',' QUOTE '\"'\n",
    "region 'ap-southeast-1'\n",
    "\n",
    " IGNOREHEADER 1\n",
    ";\n",
    "\n",
    "\"\"\")"
   ]
  },
  {
   "cell_type": "code",
   "execution_count": 13,
   "metadata": {},
   "outputs": [],
   "source": [
    "sql_create_author_comment_interim = sql.SQL(\"\"\"\n",
    "DROP TABLE IF EXISTS comment_author_interim;\n",
    "CREATE TABLE comment_author_interim (\n",
    "    \"author_key\" int IDENTITY(1,1) ,\n",
    "    \"author_id\" VARCHAR(10) NOT NULL ,\n",
    "    \"comment_id\" VARCHAR(7) ,\n",
    "    \"post_id\" VARCHAR(6),\n",
    "    \"acc_creation_date\" TIMESTAMPTZ NOT NULL ,\n",
    "    \"author_name\" VARCHAR(20) ,\n",
    "    \"link_flair\" INT,\n",
    "    \"comment_karma\" INT,\n",
    "    \"is_gold\" BOOLEAN default False,\n",
    "    \"is_mod\" BOOLEAN default False,\n",
    "    \"is_employee\" BOOLEAN default False,\n",
    "    PRIMARY KEY(author_key)\n",
    ")\n",
    "\"\"\")\n",
    "sql_load_author_comment_interim = sql.SQL(f\"\"\"\n",
    "\n",
    "COPY comment_author_interim (author_id, comment_id ,post_id,author_name, link_flair, comment_karma, acc_creation_date, is_gold, is_mod, is_employee)FROM 's3://initial-data-load-bucket/{COMMENT_AUTHORFILE}'  credentials 'aws_iam_role=arn:aws:iam::075207432376:role/REDHSIFTACESS'\n",
    "FORMAT AS CSV DELIMITER ',' QUOTE '\"'\n",
    "region 'ap-southeast-1'\n",
    "\n",
    " IGNOREHEADER 1\n",
    "\n",
    ";\n",
    "\"\"\"\n",
    ")\n"
   ]
  },
  {
   "cell_type": "code",
   "execution_count": 14,
   "metadata": {},
   "outputs": [],
   "source": [
    "def connect_to_redshift():\n",
    "    try:\n",
    "        rs_wh = psycopg2.connect(dbname = DATABASE , user = USERNAME , password = PASSWORD , host = HOST , port = PORT)\n",
    "        rs_wh.autocommit = True\n",
    "\n",
    "        return rs_wh\n",
    "    except Exception as e:\n",
    "        print(f\"Unable to connect to Redshift. Error {e}\")\n",
    "        sys.exit(1)"
   ]
  },
  {
   "cell_type": "code",
   "execution_count": 15,
   "metadata": {},
   "outputs": [],
   "source": [
    "def create_and_fill_author_post_interim(rs_conn):\n",
    "    rs_conn.execute(sql_create_author_post_interim)\n",
    "    rs_conn.execute(sql_load_author_post_interim)\n",
    "def create_and_fill_author_comment_interim(rs_conn):\n",
    "    rs_conn.execute(sql_create_author_comment_interim)\n",
    "    rs_conn.execute(sql_load_author_comment_interim)\n",
    "\n",
    "def create_and_fill_comments_interim(rs_conn):\n",
    "    rs_conn.execute(sql_create_interim_comments_table)\n",
    "    rs_conn.execute(sql_load_comments_interim)\n",
    "\n",
    "def create_and_fill_post_interim(rs_conn):\n",
    "    rs_conn.execute(sql_create_post_interim)\n",
    "    rs_conn.execute(sql_load_post_interim)\n"
   ]
  },
  {
   "cell_type": "code",
   "execution_count": 16,
   "metadata": {},
   "outputs": [],
   "source": [
    "def main():\n",
    "    rs_conn = connect_to_redshift().cursor()\n",
    "    create_and_fill_comments_interim(rs_conn)\n",
    "    create_and_fill_post_interim(rs_conn)\n",
    "    create_and_fill_author_post_interim(rs_conn)\n",
    "    create_and_fill_author_comment_interim(rs_conn)\n",
    "    "
   ]
  },
  {
   "cell_type": "code",
   "execution_count": 18,
   "metadata": {},
   "outputs": [
    {
     "ename": "InternalError_",
     "evalue": "The specified S3 prefix '--ip=127.0.0.1_comments_transformed.csv' does not exist\nDETAIL:  \n  -----------------------------------------------\n  error:  The specified S3 prefix '--ip=127.0.0.1_comments_transformed.csv' does not exist\n  code:      8001\n  context:   \n  query:     1226044\n  location:  s3_utility.cpp:671\n  process:   padbmaster [pid=20463]\n  -----------------------------------------------\n\n",
     "output_type": "error",
     "traceback": [
      "\u001b[0;31m---------------------------------------------------------------------------\u001b[0m",
      "\u001b[0;31mInternalError_\u001b[0m                            Traceback (most recent call last)",
      "\u001b[0;32m<ipython-input-18-263240bbee7e>\u001b[0m in \u001b[0;36m<module>\u001b[0;34m\u001b[0m\n\u001b[0;32m----> 1\u001b[0;31m \u001b[0mmain\u001b[0m\u001b[0;34m(\u001b[0m\u001b[0;34m)\u001b[0m\u001b[0;34m\u001b[0m\u001b[0;34m\u001b[0m\u001b[0m\n\u001b[0m",
      "\u001b[0;32m<ipython-input-16-c1a2e95bd2f1>\u001b[0m in \u001b[0;36mmain\u001b[0;34m()\u001b[0m\n\u001b[1;32m      1\u001b[0m \u001b[0;32mdef\u001b[0m \u001b[0mmain\u001b[0m\u001b[0;34m(\u001b[0m\u001b[0;34m)\u001b[0m\u001b[0;34m:\u001b[0m\u001b[0;34m\u001b[0m\u001b[0;34m\u001b[0m\u001b[0m\n\u001b[1;32m      2\u001b[0m     \u001b[0mrs_conn\u001b[0m \u001b[0;34m=\u001b[0m \u001b[0mconnect_to_redshift\u001b[0m\u001b[0;34m(\u001b[0m\u001b[0;34m)\u001b[0m\u001b[0;34m.\u001b[0m\u001b[0mcursor\u001b[0m\u001b[0;34m(\u001b[0m\u001b[0;34m)\u001b[0m\u001b[0;34m\u001b[0m\u001b[0;34m\u001b[0m\u001b[0m\n\u001b[0;32m----> 3\u001b[0;31m     \u001b[0mcreate_and_fill_comments_interim\u001b[0m\u001b[0;34m(\u001b[0m\u001b[0mrs_conn\u001b[0m\u001b[0;34m)\u001b[0m\u001b[0;34m\u001b[0m\u001b[0;34m\u001b[0m\u001b[0m\n\u001b[0m\u001b[1;32m      4\u001b[0m     \u001b[0mcreate_and_fill_post_interim\u001b[0m\u001b[0;34m(\u001b[0m\u001b[0mrs_conn\u001b[0m\u001b[0;34m)\u001b[0m\u001b[0;34m\u001b[0m\u001b[0;34m\u001b[0m\u001b[0m\n\u001b[1;32m      5\u001b[0m     \u001b[0mcreate_and_fill_author_post_interim\u001b[0m\u001b[0;34m(\u001b[0m\u001b[0mrs_conn\u001b[0m\u001b[0;34m)\u001b[0m\u001b[0;34m\u001b[0m\u001b[0;34m\u001b[0m\u001b[0m\n",
      "\u001b[0;32m<ipython-input-15-5770151c269f>\u001b[0m in \u001b[0;36mcreate_and_fill_comments_interim\u001b[0;34m(rs_conn)\u001b[0m\n\u001b[1;32m      8\u001b[0m \u001b[0;32mdef\u001b[0m \u001b[0mcreate_and_fill_comments_interim\u001b[0m\u001b[0;34m(\u001b[0m\u001b[0mrs_conn\u001b[0m\u001b[0;34m)\u001b[0m\u001b[0;34m:\u001b[0m\u001b[0;34m\u001b[0m\u001b[0;34m\u001b[0m\u001b[0m\n\u001b[1;32m      9\u001b[0m     \u001b[0mrs_conn\u001b[0m\u001b[0;34m.\u001b[0m\u001b[0mexecute\u001b[0m\u001b[0;34m(\u001b[0m\u001b[0msql_create_interim_comments_table\u001b[0m\u001b[0;34m)\u001b[0m\u001b[0;34m\u001b[0m\u001b[0;34m\u001b[0m\u001b[0m\n\u001b[0;32m---> 10\u001b[0;31m     \u001b[0mrs_conn\u001b[0m\u001b[0;34m.\u001b[0m\u001b[0mexecute\u001b[0m\u001b[0;34m(\u001b[0m\u001b[0msql_load_comments_interim\u001b[0m\u001b[0;34m)\u001b[0m\u001b[0;34m\u001b[0m\u001b[0;34m\u001b[0m\u001b[0m\n\u001b[0m\u001b[1;32m     11\u001b[0m \u001b[0;34m\u001b[0m\u001b[0m\n\u001b[1;32m     12\u001b[0m \u001b[0;32mdef\u001b[0m \u001b[0mcreate_and_fill_post_interim\u001b[0m\u001b[0;34m(\u001b[0m\u001b[0mrs_conn\u001b[0m\u001b[0;34m)\u001b[0m\u001b[0;34m:\u001b[0m\u001b[0;34m\u001b[0m\u001b[0;34m\u001b[0m\u001b[0m\n",
      "\u001b[0;31mInternalError_\u001b[0m: The specified S3 prefix '--ip=127.0.0.1_comments_transformed.csv' does not exist\nDETAIL:  \n  -----------------------------------------------\n  error:  The specified S3 prefix '--ip=127.0.0.1_comments_transformed.csv' does not exist\n  code:      8001\n  context:   \n  query:     1226044\n  location:  s3_utility.cpp:671\n  process:   padbmaster [pid=20463]\n  -----------------------------------------------\n\n"
     ]
    }
   ],
   "source": [
    "main()"
   ]
  },
  {
   "cell_type": "code",
   "execution_count": null,
   "metadata": {},
   "outputs": [],
   "source": []
  }
 ],
 "metadata": {
  "kernelspec": {
   "display_name": "Python 3",
   "language": "python",
   "name": "python3"
  },
  "language_info": {
   "codemirror_mode": {
    "name": "ipython",
    "version": 3
   },
   "file_extension": ".py",
   "mimetype": "text/x-python",
   "name": "python",
   "nbconvert_exporter": "python",
   "pygments_lexer": "ipython3",
   "version": "3.8.10"
  },
  "orig_nbformat": 4,
  "vscode": {
   "interpreter": {
    "hash": "d64bf8c1f77516defb4fb4ab4f063b0bc722209f576d0ea7fbdd74a3494d5225"
   }
  }
 },
 "nbformat": 4,
 "nbformat_minor": 2
}
