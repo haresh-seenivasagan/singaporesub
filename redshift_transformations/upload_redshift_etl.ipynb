{
 "cells": [
  {
   "cell_type": "code",
   "execution_count": 52,
   "metadata": {},
   "outputs": [],
   "source": [
    "import configparser\n",
    "from pathlib import Path\n",
    "import os\n",
    "from psycopg2 import sql\n",
    "import psycopg2"
   ]
  },
  {
   "cell_type": "code",
   "execution_count": 53,
   "metadata": {},
   "outputs": [
    {
     "data": {
      "text/plain": [
       "['c:\\\\Users\\\\hares\\\\singaporesub\\\\config.conf']"
      ]
     },
     "execution_count": 53,
     "metadata": {},
     "output_type": "execute_result"
    }
   ],
   "source": [
    "path = Path(__vsc_ipynb_file__)\n",
    "ROOT_DIR = path.parent.parent.absolute()\n",
    "config_path = os.path.join(ROOT_DIR, \"config.conf\")\n",
    "\n",
    "config = configparser.ConfigParser()\n",
    "config.read(config_path)\n"
   ]
  },
  {
   "cell_type": "code",
   "execution_count": 54,
   "metadata": {},
   "outputs": [],
   "source": [
    "USERNAME = config.get(\"redshift_config\", \"redshift_username\")\n",
    "PASSWORD = config.get(\"redshift_config\", \"redshift_password\")\n",
    "HOST = config.get(\"redshift_config\", \"redshift_hostname\")\n",
    "PORT = config.get(\"redshift_config\", \"redshift_port\")\n",
    "DATABASE = config.get(\"redshift_config\", \"redshift_database\")\n"
   ]
  },
  {
   "cell_type": "code",
   "execution_count": 55,
   "metadata": {},
   "outputs": [],
   "source": [
    "# Posts_fact\n",
    "sql_create_date_dim = sql.SQL(\"\"\"\n",
    "CREATE TABLE date_dim (\n",
    "  \"date_id\"               INTEGER                     NOT NULL PRIMARY KEY,  -- DATE\n",
    "  \"full_date\"             DATE                        NOT NULL,\n",
    "  \"au_format_date\"        CHAR(10)                    NOT NULL,\n",
    "  \"us_format_date\"        CHAR(10)                    NOT NULL,  -- YEAR\n",
    "  \"year_number\"           SMALLINT                    NOT NULL,\n",
    "  \"year_week_number\"      SMALLINT                    NOT NULL,\n",
    "  \"year_day_number\"       SMALLINT                    NOT NULL,\n",
    "  \"au_fiscal_year_number\" SMALLINT                    NOT NULL,\n",
    "  \"us_fiscal_year_number\" SMALLINT                    NOT NULL,  -- QUARTER\n",
    "  \"qtr_number\"            SMALLINT                    NOT NULL,\n",
    "  \"au_fiscal_qtr_number\"  SMALLINT                    NOT NULL,\n",
    "  \"us_fiscal_qtr_number\"  SMALLINT                    NOT NULL,  -- MONTH\n",
    "  \"month_number\"          SMALLINT                    NOT NULL,\n",
    "  \"month_name\"            CHAR(9)                     NOT NULL,\n",
    "  \"month_day_number\"      SMALLINT                    NOT NULL,  -- WEEK\n",
    "  \"week_day_number\"       SMALLINT                    NOT NULL,  -- DAY\n",
    "  \"day_name\"              CHAR(9)                     NOT NULL,\n",
    "  \"day_is_weekday\"        SMALLINT                    NOT NULL,\n",
    "  \"day_is_last_of_month\"  SMALLINT                    NOT NULL\n",
    ") \n",
    "DISTSTYLE ALL SORTKEY (date_id);\n",
    "\n",
    "\"\"\")"
   ]
  },
  {
   "cell_type": "code",
   "execution_count": 56,
   "metadata": {},
   "outputs": [],
   "source": [
    "sql_insert_date_data = sql.SQL(\"\"\"\n",
    "INSERT INTO date_dim\n",
    "  SELECT\n",
    "    cast(seq + 1 AS INTEGER)                                      AS date_id,-- DATE\n",
    "    datum                                                         AS full_date,\n",
    "    TO_CHAR(datum, 'DD/MM/YYYY') :: CHAR(10)                      AS au_format_date,\n",
    "    TO_CHAR(datum, 'MM/DD/YYYY') :: CHAR(10)                      AS us_format_date,-- YEAR\n",
    "    cast(extract(YEAR FROM datum) AS SMALLINT)                    AS year_number,\n",
    "    cast(extract(WEEK FROM datum) AS SMALLINT)                    AS year_week_number,\n",
    "    cast(extract(DOY FROM datum) AS SMALLINT)                     AS year_day_number,\n",
    "    cast(to_char(datum + INTERVAL '6' MONTH, 'yyyy') AS SMALLINT) AS au_fiscal_year_number,\n",
    "    cast(to_char(datum + INTERVAL '3' MONTH, 'yyyy') AS SMALLINT) AS us_fiscal_year_number,-- QUARTER\n",
    "    cast(to_char(datum, 'Q') AS SMALLINT)                         AS qtr_number,\n",
    "    cast(to_char(datum + INTERVAL '6' MONTH, 'Q') AS SMALLINT)    AS au_fiscal_qtr_number,\n",
    "    cast(to_char(datum + INTERVAL '3' MONTH, 'Q') AS SMALLINT)    AS us_fiscal_qtr_number,-- MONTH\n",
    "    cast(extract(MONTH FROM datum) AS SMALLINT)                   AS month_number,\n",
    "    to_char(datum, 'Month')                                       AS month_name,\n",
    "    cast(extract(DAY FROM datum) AS SMALLINT)                     AS month_day_number,-- WEEK\n",
    "    cast(to_char(datum, 'D') AS SMALLINT)                         AS week_day_number,-- DAY\n",
    "    to_char(datum, 'Day')                                         AS day_name,\n",
    "    CASE WHEN to_char(datum, 'D') IN ('1', '7')\n",
    "      THEN 0\n",
    "    ELSE 1 END                                                    AS day_is_weekday,\n",
    "    CASE WHEN\n",
    "      extract(DAY FROM (datum + (1 - extract(DAY FROM datum)) :: INTEGER +\n",
    "                        INTERVAL '1' MONTH) :: DATE -\n",
    "                       INTERVAL '1' DAY) = extract(DAY FROM datum)\n",
    "      THEN 1\n",
    "    ELSE 0 END                                                    AS day_is_last_of_month\n",
    "  FROM\n",
    "    -- Generate days for the next ~20 years starting from 2011.\n",
    "    (\n",
    "      SELECT\n",
    "        '2011-01-01' :: DATE + generate_series AS datum,\n",
    "        generate_series                        AS seq\n",
    "      FROM generate_series(0, 20 * 365, 1)\n",
    "    ) DQ\n",
    "  ORDER BY 1;\n",
    "\n",
    "\"\"\")"
   ]
  },
  {
   "cell_type": "code",
   "execution_count": 74,
   "metadata": {},
   "outputs": [],
   "source": [
    "sql_create_post_fact = sql.SQL(\"\"\"\n",
    "CREATE TABLE post_fact (\n",
    "    \"post_id\" VARCHAR(6) NOT NULL ,\n",
    "    \"author_id\"  VARCHAR(10) ,\n",
    "    \"created_time\" TIMESTAMPTZ NOT NULL,\n",
    "    \"flair\" VARCHAR(120) NOT NULL,\n",
    "    \"title\" TEXT,\n",
    "    \"body\" TEXT default NULL,\n",
    "    \"num_comments\" SMALLINT,\n",
    "    \"upvote_ratio\" decimal(3,2) NOT NULL,\n",
    "    \"score\" INT NOT NULL,\n",
    "    \"url\" TEXT,\n",
    "    \"distinguised\" BOOLEAN default False,\n",
    "    \"is_original_content\" BOOLEAN default False,\n",
    "    \"over_18\" BOOLEAN default False,\n",
    "    PRIMARY KEY(post_id),\n",
    "    FOREIGN KEY(author_id) references Author_Dim(author_id)\n",
    ")\n",
    "\"\"\")"
   ]
  },
  {
   "cell_type": "code",
   "execution_count": 75,
   "metadata": {},
   "outputs": [],
   "source": [
    "sql_create_author_dim = sql.SQL(\"\"\"\n",
    "CREATE TABLE Author_Dim (\n",
    "    \"author_id\" VARCHAR(10) NOT NULL ,\n",
    "    \"acc_creation_date\" TIMESTAMPTZ NOT NULL ,\n",
    "    \"author_name\" VARCHAR(20) ,\n",
    "    \"link_flair\" INT,\n",
    "    \"comment_karma\" INT,\n",
    "    \"is_gold\" BOOLEAN default False,\n",
    "    \"is_mod\" BOOLEAN default False,\n",
    "    \"is_employee\" BOOLEAN default False,\n",
    "    PRIMARY KEY(author_id)\n",
    ")\n",
    "\"\"\")"
   ]
  },
  {
   "cell_type": "code",
   "execution_count": 59,
   "metadata": {},
   "outputs": [],
   "source": [
    "sql_copy_author_to_redshift = sql.SQL(\"\"\"\n",
    "\n",
    "COPY Author_Dim (author_id, author_name, link_flair, comment_karma, acc_creation_date, is_gold, is_mod, is_employee)FROM 's3://initial-data-load-bucket/test_author_12.csv'  credentials 'aws_iam_role=arn:aws:iam::075207432376:role/REDHSIFTACESS'\n",
    "FORMAT AS CSV DELIMITER ',' QUOTE '\"'\n",
    "region 'ap-southeast-1'\n",
    "\n",
    " IGNOREHEADER 1\n",
    "\n",
    ";\n",
    "\n",
    "\n",
    "\n",
    "\n",
    "\"\"\")"
   ]
  },
  {
   "cell_type": "code",
   "execution_count": 92,
   "metadata": {},
   "outputs": [],
   "source": [
    "sql_copy_post_redshift = sql.SQL(\"\"\"\n",
    "                       \n",
    "COPY post_fact (title, body, post_id, score, upvote_ratio, flair, created_time, num_comments, author_id, url ,distinguised, is_original_content, over_18) FROM 's3://initial-data-load-bucket/test_posts_12_null.csv' IAM_ROLE 'arn:aws:iam::075207432376:role/REDHSIFTACESS' FORMAT AS CSV DELIMITER ',' QUOTE '\"' REGION AS 'ap-southeast-1'\n",
    "IGNOREHEADER 1                                             \n",
    "                                 \n",
    "                                 \"\"\")"
   ]
  },
  {
   "cell_type": "markdown",
   "metadata": {},
   "source": []
  },
  {
   "cell_type": "code",
   "execution_count": 61,
   "metadata": {},
   "outputs": [],
   "source": [
    "def connect_to_redshift():\n",
    "    try:\n",
    "        rs_wh = psycopg2.connect(dbname = DATABASE , user = USERNAME , password = PASSWORD , host = HOST , port = PORT)\n",
    "        rs_wh.autocommit = True\n",
    "\n",
    "        return rs_wh\n",
    "    except Exception as e:\n",
    "        print(f\"Unable to connect to Redshift. Error {e}\")\n",
    "        sys.exit(1)"
   ]
  },
  {
   "cell_type": "code",
   "execution_count": 76,
   "metadata": {},
   "outputs": [],
   "source": [
    "def create_and_load_date_dimension(rs_wh):\n",
    "    with rs_wh:\n",
    "        cur = rs_wh.cursor()\n",
    "        cur.execute(sql_create_date_dim)\n",
    "        print(\"created date dim\")\n",
    "        cur.execute(sql_insert_date_data)\n",
    "        print(\"inserted date dim\")\n",
    "        \n"
   ]
  },
  {
   "cell_type": "code",
   "execution_count": 63,
   "metadata": {},
   "outputs": [],
   "source": [
    "def create_post_facttable(rs_wh):\n",
    "    with rs_wh:\n",
    "        cur = rs_wh.cursor()\n",
    "        cur.execute(sql_create_post_fact)"
   ]
  },
  {
   "cell_type": "code",
   "execution_count": 64,
   "metadata": {},
   "outputs": [],
   "source": [
    "def create_post_author_dim(rs_wh):\n",
    "    with rs_wh:\n",
    "        cur = rs_wh.cursor()\n",
    "        cur.execute(sql_create_author_dim)"
   ]
  },
  {
   "cell_type": "code",
   "execution_count": 65,
   "metadata": {},
   "outputs": [],
   "source": [
    "def insertdata_dim_dimtable(rs_wh):\n",
    "    with rs_wh:\n",
    "        cur = rs_wh.cursor()\n",
    "        cur.execute(sql_copy_author_to_redshift)"
   ]
  },
  {
   "cell_type": "code",
   "execution_count": 66,
   "metadata": {},
   "outputs": [],
   "source": [
    "def insertdata_post_facttable(rs_wh):\n",
    "    with rs_wh:\n",
    "        cur = rs_wh.cursor()\n",
    "        cur.execute(sql_copy_s3_to_redshift)"
   ]
  },
  {
   "cell_type": "code",
   "execution_count": 93,
   "metadata": {},
   "outputs": [],
   "source": [
    "def main():\n",
    "    rs_conn = connect_to_redshift().cursor()\n",
    "    \n",
    "    \n",
    "    #rs_conn.execute(sql_create_author_dim)\n",
    "    \n",
    "    \n",
    "    #rs_conn.execute(sql_copy_author_to_redshift)\n",
    "    \n",
    "    \n",
    "    #rs_conn.execute(sql_create_post_fact)\n",
    "    rs_conn.execute(sql_copy_post_redshift)"
   ]
  },
  {
   "cell_type": "code",
   "execution_count": 94,
   "metadata": {},
   "outputs": [],
   "source": [
    "if __name__ == '__main__':\n",
    "    main()"
   ]
  },
  {
   "cell_type": "code",
   "execution_count": null,
   "metadata": {},
   "outputs": [],
   "source": []
  }
 ],
 "metadata": {
  "kernelspec": {
   "display_name": "Python 3.10.5 64-bit",
   "language": "python",
   "name": "python3"
  },
  "language_info": {
   "codemirror_mode": {
    "name": "ipython",
    "version": 3
   },
   "file_extension": ".py",
   "mimetype": "text/x-python",
   "name": "python",
   "nbconvert_exporter": "python",
   "pygments_lexer": "ipython3",
   "version": "3.10.5"
  },
  "orig_nbformat": 4,
  "vscode": {
   "interpreter": {
    "hash": "d64bf8c1f77516defb4fb4ab4f063b0bc722209f576d0ea7fbdd74a3494d5225"
   }
  }
 },
 "nbformat": 4,
 "nbformat_minor": 2
}
