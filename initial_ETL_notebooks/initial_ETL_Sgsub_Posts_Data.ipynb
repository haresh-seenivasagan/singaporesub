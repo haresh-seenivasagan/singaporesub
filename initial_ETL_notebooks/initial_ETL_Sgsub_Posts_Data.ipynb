{
  "cells": [
    {
      "cell_type": "code",
      "execution_count": 1,
      "metadata": {
        "id": "Ag06tHqt4_vP"
      },
      "outputs": [],
      "source": [
        "import praw\n",
        "import  sys\n",
        "from praw.models import MoreComments\n",
        "import pandas as pd\n",
        "import pprint\n",
        "from datetime import datetime , timedelta ,date ,time\n",
        "import pytz\n",
        "from pathlib import Path"
      ]
    },
    {
      "cell_type": "code",
      "execution_count": 2,
      "metadata": {
        "colab": {
          "base_uri": "https://localhost:8080/"
        },
        "id": "PRx-t-_S5Kcn",
        "outputId": "01805e6b-05d7-4644-ec82-7fcab90d40f3"
      },
      "outputs": [],
      "source": [
        "#! pip install praw"
      ]
    },
    {
      "cell_type": "code",
      "execution_count": 3,
      "metadata": {
        "id": "PFjvJ4gJ4_vR"
      },
      "outputs": [],
      "source": [
        "reddit = praw.Reddit(\n",
        "        client_id=\"Mf3cdHYsO1pTQ8SXMJWF6Q\",\n",
        "        client_secret=\"_5qEJwsVcGp1HUneUvTPOQfeNvWeKQ\",\n",
        "        user_agent=\"Collect to data visualize r/singapore\",#  description\n",
        "        password=\"Haresh_2255\",            \n",
        "        username=\"Apart_climate_8516\" # TODO make creds secure\n",
        "        ,check_for_async=False)"
      ]
    },
    {
      "cell_type": "code",
      "execution_count": 4,
      "metadata": {
        "colab": {
          "base_uri": "https://localhost:8080/"
        },
        "id": "_YUzcet64_vS",
        "outputId": "eb7cfb8e-71cf-4f14-d05e-d1aea0340abc"
      },
      "outputs": [
        {
          "name": "stdout",
          "output_type": "stream",
          "text": [
            "False\n"
          ]
        }
      ],
      "source": [
        "print(reddit.read_only)"
      ]
    },
    {
      "cell_type": "code",
      "execution_count": 42,
      "metadata": {
        "colab": {
          "base_uri": "https://localhost:8080/"
        },
        "id": "EuPaFUaB4_vV",
        "outputId": "f29c89f8-2788-4b7e-f462-8cede0b5282b"
      },
      "outputs": [],
      "source": [
        "singaporesub = reddit.subreddit(\"singapore\")\n",
        "posts = []\n",
        "author_details = []"
      ]
    },
    {
      "cell_type": "code",
      "execution_count": 43,
      "metadata": {
        "colab": {
          "base_uri": "https://localhost:8080/"
        },
        "id": "IjheGBMI4_vW",
        "outputId": "b537be15-66bd-432b-dced-6cdfbc559039"
      },
      "outputs": [
        {
          "name": "stdout",
          "output_type": "stream",
          "text": [
            "12\n"
          ]
        }
      ],
      "source": [
        "\n",
        "for post in singaporesub.new(limit=12):\n",
        "    \n",
        "    if post.author == None:\n",
        "       continue\n",
        "    else:        \n",
        "       posts.append([post.title,post.selftext,post.id,post.score,post.upvote_ratio,post.link_flair_text,post.created_utc,post.num_comments,post.author.id,post.url,post.distinguished,post.is_original_content,post.over_18])\n",
        "      # author_details.append([post.author.id,post.id,post.author,post.author.link_karma,post.author.comment_karma,post.author.created_utc,post.author.is_gold,post.author.is_mod,post.author.is_employee,post.author.is_suspended])\n",
        "\n",
        "\n",
        "posts = pd.DataFrame(posts,columns=['title', 'body', 'post_id' ,'score', 'upvote_ratio', 'flair', 'created_time', 'num_comments','author_id' ,'url','distinguished','is_original_content','over_18'])\n",
        "print(len(posts))\n",
        "\n",
        "    # print(submission.title)|\n",
        "    # print(submission.selftext)\n",
        "    # # Output: the submission's title\n",
        "    # print(submission.score)\n",
        "    # print(submission.upvote_ratio)\n",
        "    # # Output: the submission's score\n",
        "    # print(submission.id)\n",
        "    # # Output: the submission's ID\n",
        "    # print(submission.url)\n",
        "    # print(submission.link_flair_text)\n",
        "    # print(submission.num_comments)\n",
        "    # print(submission.created_utc)\n",
        "\n",
        "    # print(submission.author)\n",
        "    # print(submission.author.link_karma)\n",
        "    # print(submission.author.is_gold)\n",
        "    # print(submission.author.is_mod)\n",
        "    # print(submission.author.is_employee)\n",
        "    # submission.comment_sort = \"confidence\"\n",
        "    # comments = submission.comments.list()\n",
        "    # for comm in comments:\n",
        "    #     if isinstance(comm, MoreComments):\n",
        "    #         continue\n",
        "    #     print(comm.body)\n",
        "    #     print(comm.score)\n",
        "    #     print(comm.link_id)\n",
        "    #     print(comm.id)\n",
        "       \n",
        "    \n",
        "  \n",
        "    \n",
        "    \n",
        "    #    TODO   FIGURE OUT COMMENT FOREST\n",
        "    # TODO comment sorting\n",
        "    # TODO does the script need argumen for date ?\n",
        "    # TODO  can anythin be done with the author \n",
        "\n",
        "    \n",
        "  \n"
      ]
    },
    {
      "cell_type": "code",
      "execution_count": 44,
      "metadata": {
        "colab": {
          "base_uri": "https://localhost:8080/"
        },
        "id": "1dvShk8w4_vX",
        "outputId": "b1678c3f-23ab-4626-9d07-eb5014e2bb35"
      },
      "outputs": [
        {
          "name": "stdout",
          "output_type": "stream",
          "text": [
            "                                               title body post_id  score  \\\n",
            "0                        Monkeys visiting a HDB flat       w127nm     95   \n",
            "1  Looks like SAF changed the ME8 rank insignia (...       w1239w      3   \n",
            "2   NDP rehearsal last night, caught some fireworks!       w11uah     44   \n",
            "3  Coffee bean at woodlands north plaza is open!!...       w11t06      0   \n",
            "4  Dedicated area for flying unmanned aircraft la...       w11i61      4   \n",
            "\n",
            "   upvote_ratio           flair  created_time  num_comments author_id  \\\n",
            "0          0.95  Photos, Videos  1.658045e+09            31     z1o26   \n",
            "1          0.56  Photos, Videos  1.658044e+09            10  5okk8eko   \n",
            "2          0.86  Photos, Videos  1.658043e+09             6  d75jth7h   \n",
            "3          0.31  Photos, Videos  1.658043e+09             3  8aezmfmx   \n",
            "4          0.66            News  1.658042e+09             4  1eqdt8vc   \n",
            "\n",
            "                                                 url distinguished  \\\n",
            "0                    https://v.redd.it/70zmb96o43c91          None   \n",
            "1                https://i.redd.it/148bx0n033c91.png          None   \n",
            "2                https://i.redd.it/6l5jpqb203c91.jpg          None   \n",
            "3                https://i.redd.it/o71u0p1rz2c91.jpg          None   \n",
            "4  https://www.channelnewsasia.com/singapore/pand...          None   \n",
            "\n",
            "   is_original_content  over_18  \n",
            "0                False    False  \n",
            "1                False    False  \n",
            "2                 True    False  \n",
            "3                False    False  \n",
            "4                False    False  \n"
          ]
        }
      ],
      "source": [
        "print(posts.head())"
      ]
    },
    {
      "cell_type": "code",
      "execution_count": 45,
      "metadata": {
        "id": "XREn2uDObPFV"
      },
      "outputs": [],
      "source": [
        "posts['created_time']=(pd.to_datetime(posts['created_time'],unit='s',utc=True))\n",
        "posts[\"created_time\"] = posts[\"created_time\"].dt.tz_convert('Asia/Singapore')"
      ]
    },
    {
      "cell_type": "code",
      "execution_count": 46,
      "metadata": {},
      "outputs": [],
      "source": [
        "posts.body = posts.body.replace(r'^\\s*$', 'NULL', regex=True)"
      ]
    },
    {
      "cell_type": "code",
      "execution_count": 47,
      "metadata": {},
      "outputs": [
        {
          "data": {
            "text/html": [
              "<div>\n",
              "<style scoped>\n",
              "    .dataframe tbody tr th:only-of-type {\n",
              "        vertical-align: middle;\n",
              "    }\n",
              "\n",
              "    .dataframe tbody tr th {\n",
              "        vertical-align: top;\n",
              "    }\n",
              "\n",
              "    .dataframe thead th {\n",
              "        text-align: right;\n",
              "    }\n",
              "</style>\n",
              "<table border=\"1\" class=\"dataframe\">\n",
              "  <thead>\n",
              "    <tr style=\"text-align: right;\">\n",
              "      <th></th>\n",
              "      <th>title</th>\n",
              "      <th>body</th>\n",
              "      <th>post_id</th>\n",
              "      <th>score</th>\n",
              "      <th>upvote_ratio</th>\n",
              "      <th>flair</th>\n",
              "      <th>created_time</th>\n",
              "      <th>num_comments</th>\n",
              "      <th>author_id</th>\n",
              "      <th>url</th>\n",
              "      <th>distinguished</th>\n",
              "      <th>is_original_content</th>\n",
              "      <th>over_18</th>\n",
              "    </tr>\n",
              "  </thead>\n",
              "  <tbody>\n",
              "    <tr>\n",
              "      <th>0</th>\n",
              "      <td>Monkeys visiting a HDB flat</td>\n",
              "      <td>NULL</td>\n",
              "      <td>w127nm</td>\n",
              "      <td>95</td>\n",
              "      <td>0.95</td>\n",
              "      <td>Photos, Videos</td>\n",
              "      <td>2022-07-17 15:58:36+08:00</td>\n",
              "      <td>31</td>\n",
              "      <td>z1o26</td>\n",
              "      <td>https://v.redd.it/70zmb96o43c91</td>\n",
              "      <td>None</td>\n",
              "      <td>False</td>\n",
              "      <td>False</td>\n",
              "    </tr>\n",
              "    <tr>\n",
              "      <th>1</th>\n",
              "      <td>Looks like SAF changed the ME8 rank insignia (...</td>\n",
              "      <td>NULL</td>\n",
              "      <td>w1239w</td>\n",
              "      <td>3</td>\n",
              "      <td>0.56</td>\n",
              "      <td>Photos, Videos</td>\n",
              "      <td>2022-07-17 15:50:24+08:00</td>\n",
              "      <td>10</td>\n",
              "      <td>5okk8eko</td>\n",
              "      <td>https://i.redd.it/148bx0n033c91.png</td>\n",
              "      <td>None</td>\n",
              "      <td>False</td>\n",
              "      <td>False</td>\n",
              "    </tr>\n",
              "    <tr>\n",
              "      <th>2</th>\n",
              "      <td>NDP rehearsal last night, caught some fireworks!</td>\n",
              "      <td>NULL</td>\n",
              "      <td>w11uah</td>\n",
              "      <td>44</td>\n",
              "      <td>0.86</td>\n",
              "      <td>Photos, Videos</td>\n",
              "      <td>2022-07-17 15:33:22+08:00</td>\n",
              "      <td>6</td>\n",
              "      <td>d75jth7h</td>\n",
              "      <td>https://i.redd.it/6l5jpqb203c91.jpg</td>\n",
              "      <td>None</td>\n",
              "      <td>True</td>\n",
              "      <td>False</td>\n",
              "    </tr>\n",
              "    <tr>\n",
              "      <th>3</th>\n",
              "      <td>Coffee bean at woodlands north plaza is open!!...</td>\n",
              "      <td>NULL</td>\n",
              "      <td>w11t06</td>\n",
              "      <td>0</td>\n",
              "      <td>0.31</td>\n",
              "      <td>Photos, Videos</td>\n",
              "      <td>2022-07-17 15:30:58+08:00</td>\n",
              "      <td>3</td>\n",
              "      <td>8aezmfmx</td>\n",
              "      <td>https://i.redd.it/o71u0p1rz2c91.jpg</td>\n",
              "      <td>None</td>\n",
              "      <td>False</td>\n",
              "      <td>False</td>\n",
              "    </tr>\n",
              "    <tr>\n",
              "      <th>4</th>\n",
              "      <td>Dedicated area for flying unmanned aircraft la...</td>\n",
              "      <td>NULL</td>\n",
              "      <td>w11i61</td>\n",
              "      <td>4</td>\n",
              "      <td>0.66</td>\n",
              "      <td>News</td>\n",
              "      <td>2022-07-17 15:10:58+08:00</td>\n",
              "      <td>4</td>\n",
              "      <td>1eqdt8vc</td>\n",
              "      <td>https://www.channelnewsasia.com/singapore/pand...</td>\n",
              "      <td>None</td>\n",
              "      <td>False</td>\n",
              "      <td>False</td>\n",
              "    </tr>\n",
              "  </tbody>\n",
              "</table>\n",
              "</div>"
            ],
            "text/plain": [
              "                                               title  body post_id  score  \\\n",
              "0                        Monkeys visiting a HDB flat  NULL  w127nm     95   \n",
              "1  Looks like SAF changed the ME8 rank insignia (...  NULL  w1239w      3   \n",
              "2   NDP rehearsal last night, caught some fireworks!  NULL  w11uah     44   \n",
              "3  Coffee bean at woodlands north plaza is open!!...  NULL  w11t06      0   \n",
              "4  Dedicated area for flying unmanned aircraft la...  NULL  w11i61      4   \n",
              "\n",
              "   upvote_ratio           flair              created_time  num_comments  \\\n",
              "0          0.95  Photos, Videos 2022-07-17 15:58:36+08:00            31   \n",
              "1          0.56  Photos, Videos 2022-07-17 15:50:24+08:00            10   \n",
              "2          0.86  Photos, Videos 2022-07-17 15:33:22+08:00             6   \n",
              "3          0.31  Photos, Videos 2022-07-17 15:30:58+08:00             3   \n",
              "4          0.66            News 2022-07-17 15:10:58+08:00             4   \n",
              "\n",
              "  author_id                                                url distinguished  \\\n",
              "0     z1o26                    https://v.redd.it/70zmb96o43c91          None   \n",
              "1  5okk8eko                https://i.redd.it/148bx0n033c91.png          None   \n",
              "2  d75jth7h                https://i.redd.it/6l5jpqb203c91.jpg          None   \n",
              "3  8aezmfmx                https://i.redd.it/o71u0p1rz2c91.jpg          None   \n",
              "4  1eqdt8vc  https://www.channelnewsasia.com/singapore/pand...          None   \n",
              "\n",
              "   is_original_content  over_18  \n",
              "0                False    False  \n",
              "1                False    False  \n",
              "2                 True    False  \n",
              "3                False    False  \n",
              "4                False    False  "
            ]
          },
          "execution_count": 47,
          "metadata": {},
          "output_type": "execute_result"
        }
      ],
      "source": [
        "posts.head()"
      ]
    },
    {
      "cell_type": "code",
      "execution_count": 48,
      "metadata": {},
      "outputs": [],
      "source": [
        "filepath = Path('C:/Users/hares/singaporesub/Data/post_test_laod_12_null.csv')"
      ]
    },
    {
      "cell_type": "code",
      "execution_count": 49,
      "metadata": {
        "colab": {
          "base_uri": "https://localhost:8080/"
        },
        "id": "GHsLkAXJ5G38",
        "outputId": "166c9d4a-5b98-47ce-aef5-0d3f54e1307b"
      },
      "outputs": [],
      "source": [
        "posts.to_csv(filepath,index=False)"
      ]
    },
    {
      "cell_type": "code",
      "execution_count": null,
      "metadata": {},
      "outputs": [],
      "source": [
        "posts.nunique() "
      ]
    },
    {
      "cell_type": "code",
      "execution_count": null,
      "metadata": {
        "id": "-tQSQ_GE4_vZ"
      },
      "outputs": [],
      "source": []
    },
    {
      "cell_type": "code",
      "execution_count": null,
      "metadata": {
        "colab": {
          "base_uri": "https://localhost:8080/"
        },
        "id": "gOvJ5e_7dJtI",
        "outputId": "512c741e-cb4f-472e-d9bc-d151df74aea6"
      },
      "outputs": [],
      "source": [
        "posts.created_time"
      ]
    },
    {
      "cell_type": "code",
      "execution_count": null,
      "metadata": {
        "colab": {
          "base_uri": "https://localhost:8080/"
        },
        "id": "HZPWhieAbPWy",
        "outputId": "7945199b-5235-438b-d893-a1cc12ee6d81"
      },
      "outputs": [],
      "source": [
        "type(posts.created_time)"
      ]
    },
    {
      "cell_type": "code",
      "execution_count": null,
      "metadata": {
        "id": "PnSEYGsBeTFR"
      },
      "outputs": [],
      "source": [
        "tz = pytz.timezone(\"Asia/Singapore\")"
      ]
    },
    {
      "cell_type": "code",
      "execution_count": null,
      "metadata": {
        "colab": {
          "base_uri": "https://localhost:8080/"
        },
        "id": "CrNW7TpA4_vZ",
        "outputId": "04dddf37-20ea-4c90-c7a6-0b0b575c0ffe"
      },
      "outputs": [],
      "source": [
        "today = date.today()\n",
        "midnight_local = datetime.combine(today, time())\n",
        "sing_midnight = tz.localize(midnight_local)\n",
        "print(today)\n",
        "print(midnight_local)\n",
        "yesterday = sing_midnight - timedelta(days=1)\n",
        "begining = sing_midnight\n"
      ]
    },
    {
      "cell_type": "code",
      "execution_count": null,
      "metadata": {
        "colab": {
          "base_uri": "https://localhost:8080/"
        },
        "id": "GpQ31yun7xkQ",
        "outputId": "1bc2561a-565e-4b7a-9645-8c239d8a3292"
      },
      "outputs": [],
      "source": [
        "print(yesterday)"
      ]
    },
    {
      "cell_type": "code",
      "execution_count": null,
      "metadata": {
        "id": "Zig5I8j-fZy8"
      },
      "outputs": [],
      "source": [
        "mask =  (posts['created_time'] > yesterday) & (posts['created_time'] <= begining)"
      ]
    },
    {
      "cell_type": "code",
      "execution_count": null,
      "metadata": {
        "colab": {
          "base_uri": "https://localhost:8080/",
          "height": 318
        },
        "id": "-7_TQxhR8fi-",
        "outputId": "134aebeb-05ea-4381-c2f4-7614b5358bfe"
      },
      "outputs": [],
      "source": []
    },
    {
      "cell_type": "code",
      "execution_count": null,
      "metadata": {
        "id": "WYdZ1r_n4_va"
      },
      "outputs": [],
      "source": [
        "past_24_posts = posts[mask]"
      ]
    },
    {
      "cell_type": "code",
      "execution_count": null,
      "metadata": {
        "colab": {
          "base_uri": "https://localhost:8080/",
          "height": 1000
        },
        "id": "bX-nTt0I4_vb",
        "outputId": "1f7b30e5-1065-44c3-98af-a3d2648b4977"
      },
      "outputs": [],
      "source": [
        "past_24_posts"
      ]
    },
    {
      "cell_type": "code",
      "execution_count": null,
      "metadata": {
        "id": "sLVhlo8m4_vc"
      },
      "outputs": [],
      "source": [
        "posts.to_csv('test2to3.csv')"
      ]
    },
    {
      "cell_type": "code",
      "execution_count": null,
      "metadata": {
        "id": "ThREnzOT4_vd",
        "outputId": "c552adbb-5146-4b37-96d0-b7939892b5b3"
      },
      "outputs": [],
      "source": [
        "posts['created_time']"
      ]
    },
    {
      "cell_type": "code",
      "execution_count": null,
      "metadata": {},
      "outputs": [],
      "source": [
        "filepath=Path('C:/Users/hares/singaporesub/Data/init_Posts_NoTransform.csv')"
      ]
    },
    {
      "cell_type": "code",
      "execution_count": null,
      "metadata": {
        "id": "BsoRuDDc4_vd"
      },
      "outputs": [],
      "source": [
        "yo=pd.read_csv(filepath)"
      ]
    },
    {
      "cell_type": "code",
      "execution_count": null,
      "metadata": {},
      "outputs": [],
      "source": [
        "yo.nunique()"
      ]
    },
    {
      "cell_type": "code",
      "execution_count": null,
      "metadata": {},
      "outputs": [],
      "source": [
        "yo['created_time']=(pd.to_datetime(yo['created_time'],unit='s',utc=True))\n",
        "yo[\"created_time\"] = yo[\"created_time\"].dt.tz_convert('Asia/Singapore')"
      ]
    },
    {
      "cell_type": "code",
      "execution_count": null,
      "metadata": {},
      "outputs": [],
      "source": [
        "yo.to_csv('testlmao.csv')"
      ]
    },
    {
      "cell_type": "code",
      "execution_count": null,
      "metadata": {},
      "outputs": [],
      "source": []
    }
  ],
  "metadata": {
    "colab": {
      "name": "reddittest.ipynb",
      "provenance": [],
      "toc_visible": true
    },
    "kernelspec": {
      "display_name": "Python 3.10.5 64-bit",
      "language": "python",
      "name": "python3"
    },
    "language_info": {
      "codemirror_mode": {
        "name": "ipython",
        "version": 3
      },
      "file_extension": ".py",
      "mimetype": "text/x-python",
      "name": "python",
      "nbconvert_exporter": "python",
      "pygments_lexer": "ipython3",
      "version": "3.10.5"
    },
    "orig_nbformat": 4,
    "vscode": {
      "interpreter": {
        "hash": "d64bf8c1f77516defb4fb4ab4f063b0bc722209f576d0ea7fbdd74a3494d5225"
      }
    }
  },
  "nbformat": 4,
  "nbformat_minor": 0
}
