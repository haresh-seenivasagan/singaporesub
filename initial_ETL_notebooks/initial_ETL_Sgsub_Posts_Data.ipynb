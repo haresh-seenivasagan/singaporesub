{
  "cells": [
    {
      "cell_type": "code",
      "execution_count": 2,
      "metadata": {
        "id": "Ag06tHqt4_vP"
      },
      "outputs": [],
      "source": [
        "import praw\n",
        "import  sys\n",
        "from praw.models import MoreComments\n",
        "import pandas as pd\n",
        "import pprint\n",
        "from datetime import datetime , timedelta ,date ,time\n",
        "import pytz\n",
        "from pathlib import Path"
      ]
    },
    {
      "cell_type": "code",
      "execution_count": 3,
      "metadata": {
        "colab": {
          "base_uri": "https://localhost:8080/"
        },
        "id": "PRx-t-_S5Kcn",
        "outputId": "01805e6b-05d7-4644-ec82-7fcab90d40f3"
      },
      "outputs": [],
      "source": [
        "#! pip install praw"
      ]
    },
    {
      "cell_type": "code",
      "execution_count": null,
      "metadata": {},
      "outputs": [],
      "source": [
        "path = Path(__vsc_ipynb_file__)\n",
        "ROOT_DIR = path.parent.parent.absolute()\n",
        "config_path = os.path.join(ROOT_DIR, \"configuration.conf\")\n",
        "\n",
        "config = configparser.ConfigParser()\n",
        "config.read(config_path)"
      ]
    },
    {
      "cell_type": "code",
      "execution_count": 4,
      "metadata": {
        "id": "PFjvJ4gJ4_vR"
      },
      "outputs": [],
      "source": [
        "reddit = praw.Reddit(\n",
        "        client_id= config.get(\"reddit config\",\"client_id\"),\n",
        "        client_secret=config.get(\"reddit config\",\"client_secret\"),\n",
        "        user_agent=\"Collect to data visualize r/singapore\",#  description\n",
        "        password=config.get(\"reddit config\",\"password\"),            \n",
        "        username=config.get(\"reddit config\",\"username\") # TODO make creds secure\n",
        "        ,check_for_async=False)"
      ]
    },
    {
      "cell_type": "code",
      "execution_count": 5,
      "metadata": {
        "colab": {
          "base_uri": "https://localhost:8080/"
        },
        "id": "_YUzcet64_vS",
        "outputId": "eb7cfb8e-71cf-4f14-d05e-d1aea0340abc"
      },
      "outputs": [
        {
          "name": "stdout",
          "output_type": "stream",
          "text": [
            "False\n"
          ]
        }
      ],
      "source": [
        "print(reddit.read_only)"
      ]
    },
    {
      "cell_type": "code",
      "execution_count": 9,
      "metadata": {
        "colab": {
          "base_uri": "https://localhost:8080/"
        },
        "id": "EuPaFUaB4_vV",
        "outputId": "f29c89f8-2788-4b7e-f462-8cede0b5282b"
      },
      "outputs": [],
      "source": [
        "singaporesub = reddit.subreddit(\"singapore\")\n",
        "posts = []\n",
        "author_details = []"
      ]
    },
    {
      "cell_type": "code",
      "execution_count": 10,
      "metadata": {
        "colab": {
          "base_uri": "https://localhost:8080/"
        },
        "id": "IjheGBMI4_vW",
        "outputId": "b537be15-66bd-432b-dced-6cdfbc559039"
      },
      "outputs": [
        {
          "ename": "AttributeError",
          "evalue": "'Redditor' object has no attribute 'id'",
          "output_type": "error",
          "traceback": [
            "\u001b[1;31m---------------------------------------------------------------------------\u001b[0m",
            "\u001b[1;31mAttributeError\u001b[0m                            Traceback (most recent call last)",
            "\u001b[1;32mc:\\Users\\hares\\singaporesub\\initial_ETL_notebooks\\initial_ETL_Sgsub_Posts_Data.ipynb Cell 6\u001b[0m in \u001b[0;36m<cell line: 1>\u001b[1;34m()\u001b[0m\n\u001b[0;32m      <a href='vscode-notebook-cell:/c%3A/Users/hares/singaporesub/initial_ETL_notebooks/initial_ETL_Sgsub_Posts_Data.ipynb#ch0000005?line=0'>1</a>\u001b[0m \u001b[39mfor\u001b[39;00m post \u001b[39min\u001b[39;00m singaporesub\u001b[39m.\u001b[39mnew(limit\u001b[39m=\u001b[39m\u001b[39mNone\u001b[39;00m):\n\u001b[1;32m----> <a href='vscode-notebook-cell:/c%3A/Users/hares/singaporesub/initial_ETL_notebooks/initial_ETL_Sgsub_Posts_Data.ipynb#ch0000005?line=2'>3</a>\u001b[0m     \u001b[39mif\u001b[39;00m post\u001b[39m.\u001b[39;49mauthor\u001b[39m.\u001b[39;49mid \u001b[39m==\u001b[39m \u001b[39mNone\u001b[39;00m:\n\u001b[0;32m      <a href='vscode-notebook-cell:/c%3A/Users/hares/singaporesub/initial_ETL_notebooks/initial_ETL_Sgsub_Posts_Data.ipynb#ch0000005?line=3'>4</a>\u001b[0m        \u001b[39mcontinue\u001b[39;00m\n\u001b[0;32m      <a href='vscode-notebook-cell:/c%3A/Users/hares/singaporesub/initial_ETL_notebooks/initial_ETL_Sgsub_Posts_Data.ipynb#ch0000005?line=4'>5</a>\u001b[0m     \u001b[39melse\u001b[39;00m:        \n",
            "File \u001b[1;32mc:\\Users\\hares\\AppData\\Local\\Programs\\Python\\Python310\\lib\\site-packages\\praw\\models\\reddit\\base.py:35\u001b[0m, in \u001b[0;36mRedditBase.__getattr__\u001b[1;34m(self, attribute)\u001b[0m\n\u001b[0;32m     33\u001b[0m \u001b[39mif\u001b[39;00m \u001b[39mnot\u001b[39;00m attribute\u001b[39m.\u001b[39mstartswith(\u001b[39m\"\u001b[39m\u001b[39m_\u001b[39m\u001b[39m\"\u001b[39m) \u001b[39mand\u001b[39;00m \u001b[39mnot\u001b[39;00m \u001b[39mself\u001b[39m\u001b[39m.\u001b[39m_fetched:\n\u001b[0;32m     34\u001b[0m     \u001b[39mself\u001b[39m\u001b[39m.\u001b[39m_fetch()\n\u001b[1;32m---> 35\u001b[0m     \u001b[39mreturn\u001b[39;00m \u001b[39mgetattr\u001b[39;49m(\u001b[39mself\u001b[39;49m, attribute)\n\u001b[0;32m     36\u001b[0m \u001b[39mraise\u001b[39;00m \u001b[39mAttributeError\u001b[39;00m(\n\u001b[0;32m     37\u001b[0m     \u001b[39mf\u001b[39m\u001b[39m\"\u001b[39m\u001b[39m{\u001b[39;00m\u001b[39mself\u001b[39m\u001b[39m.\u001b[39m\u001b[39m__class__\u001b[39m\u001b[39m.\u001b[39m\u001b[39m__name__\u001b[39m\u001b[39m!r}\u001b[39;00m\u001b[39m object has no attribute \u001b[39m\u001b[39m{\u001b[39;00mattribute\u001b[39m!r}\u001b[39;00m\u001b[39m\"\u001b[39m\n\u001b[0;32m     38\u001b[0m )\n",
            "File \u001b[1;32mc:\\Users\\hares\\AppData\\Local\\Programs\\Python\\Python310\\lib\\site-packages\\praw\\models\\reddit\\base.py:36\u001b[0m, in \u001b[0;36mRedditBase.__getattr__\u001b[1;34m(self, attribute)\u001b[0m\n\u001b[0;32m     34\u001b[0m     \u001b[39mself\u001b[39m\u001b[39m.\u001b[39m_fetch()\n\u001b[0;32m     35\u001b[0m     \u001b[39mreturn\u001b[39;00m \u001b[39mgetattr\u001b[39m(\u001b[39mself\u001b[39m, attribute)\n\u001b[1;32m---> 36\u001b[0m \u001b[39mraise\u001b[39;00m \u001b[39mAttributeError\u001b[39;00m(\n\u001b[0;32m     37\u001b[0m     \u001b[39mf\u001b[39m\u001b[39m\"\u001b[39m\u001b[39m{\u001b[39;00m\u001b[39mself\u001b[39m\u001b[39m.\u001b[39m\u001b[39m__class__\u001b[39m\u001b[39m.\u001b[39m\u001b[39m__name__\u001b[39m\u001b[39m!r}\u001b[39;00m\u001b[39m object has no attribute \u001b[39m\u001b[39m{\u001b[39;00mattribute\u001b[39m!r}\u001b[39;00m\u001b[39m\"\u001b[39m\n\u001b[0;32m     38\u001b[0m )\n",
            "\u001b[1;31mAttributeError\u001b[0m: 'Redditor' object has no attribute 'id'"
          ]
        }
      ],
      "source": [
        "\n",
        "for post in singaporesub.new(limit=None):\n",
        "    \n",
        "    if post.author is None or post.author.id is None:\n",
        "       continue\n",
        "    else:        \n",
        "       posts.append([post.title,post.selftext,post.id,post.score,post.upvote_ratio,post.link_flair_text,post.created_utc,post.num_comments,post.author.id,post.url,post.distinguished,post.is_original_content,post.over_18])\n",
        "      # author_details.append([post.author.id,post.id,post.author,post.author.link_karma,post.author.comment_karma,post.author.created_utc,post.author.is_gold,post.author.is_mod,post.author.is_employee,post.author.is_suspended])\n",
        "\n",
        "\n",
        "posts = pd.DataFrame(posts,columns=['title', 'body', 'post_id' ,'score', 'upvote_ratio', 'flair', 'created_time', 'num_comments','author_id' ,'url','distinguished','is_original_content','over_18'])\n",
        "print(len(posts))\n",
        "\n",
        "    # print(submission.title)|\n",
        "    # print(submission.selftext)\n",
        "    # # Output: the submission's title\n",
        "    # print(submission.score)\n",
        "    # print(submission.upvote_ratio)\n",
        "    # # Output: the submission's score\n",
        "    # print(submission.id)\n",
        "    # # Output: the submission's ID\n",
        "    # print(submission.url)\n",
        "    # print(submission.link_flair_text)\n",
        "    # print(submission.num_comments)\n",
        "    # print(submission.created_utc)\n",
        "\n",
        "    # print(submission.author)\n",
        "    # print(submission.author.link_karma)\n",
        "    # print(submission.author.is_gold)\n",
        "    # print(submission.author.is_mod)\n",
        "    # print(submission.author.is_employee)\n",
        "    # submission.comment_sort = \"confidence\"\n",
        "    # comments = submission.comments.list()\n",
        "    # for comm in comments:\n",
        "    #     if isinstance(comm, MoreComments):\n",
        "    #         continue\n",
        "    #     print(comm.body)\n",
        "    #     print(comm.score)\n",
        "    #     print(comm.link_id)\n",
        "    #     print(comm.id)\n",
        "       \n",
        "    \n",
        "  \n",
        "    \n",
        "    \n",
        "    #    TODO   FIGURE OUT COMMENT FOREST\n",
        "    # TODO comment sorting\n",
        "    # TODO does the script need argumen for date ?\n",
        "    # TODO  can anythin be done with the author \n",
        "\n",
        "    \n",
        "  \n"
      ]
    },
    {
      "cell_type": "code",
      "execution_count": null,
      "metadata": {
        "colab": {
          "base_uri": "https://localhost:8080/"
        },
        "id": "1dvShk8w4_vX",
        "outputId": "b1678c3f-23ab-4626-9d07-eb5014e2bb35"
      },
      "outputs": [],
      "source": [
        "print(posts.head())"
      ]
    },
    {
      "cell_type": "code",
      "execution_count": null,
      "metadata": {
        "id": "XREn2uDObPFV"
      },
      "outputs": [],
      "source": [
        "posts['created_time']=(pd.to_datetime(posts['created_time'],unit='s',utc=True))\n",
        "posts[\"created_time\"] = posts[\"created_time\"].dt.tz_convert('Asia/Singapore')"
      ]
    },
    {
      "cell_type": "code",
      "execution_count": null,
      "metadata": {},
      "outputs": [],
      "source": [
        "posts.body = posts.body.replace(r'^\\s*$', 'NULL', regex=True)"
      ]
    },
    {
      "cell_type": "code",
      "execution_count": null,
      "metadata": {},
      "outputs": [],
      "source": [
        "posts.head()"
      ]
    },
    {
      "cell_type": "code",
      "execution_count": null,
      "metadata": {},
      "outputs": [],
      "source": [
        "filepath = Path('C:/Users/hares/singaporesub/Data/july19_extract_post.csv')"
      ]
    },
    {
      "cell_type": "code",
      "execution_count": null,
      "metadata": {
        "colab": {
          "base_uri": "https://localhost:8080/"
        },
        "id": "GHsLkAXJ5G38",
        "outputId": "166c9d4a-5b98-47ce-aef5-0d3f54e1307b"
      },
      "outputs": [],
      "source": [
        "posts.to_csv(filepath,index=False)"
      ]
    },
    {
      "cell_type": "code",
      "execution_count": null,
      "metadata": {},
      "outputs": [],
      "source": [
        "posts.nunique() "
      ]
    },
    {
      "cell_type": "code",
      "execution_count": null,
      "metadata": {
        "id": "-tQSQ_GE4_vZ"
      },
      "outputs": [],
      "source": []
    },
    {
      "cell_type": "code",
      "execution_count": null,
      "metadata": {
        "colab": {
          "base_uri": "https://localhost:8080/"
        },
        "id": "gOvJ5e_7dJtI",
        "outputId": "512c741e-cb4f-472e-d9bc-d151df74aea6"
      },
      "outputs": [],
      "source": [
        "posts.created_time"
      ]
    },
    {
      "cell_type": "code",
      "execution_count": null,
      "metadata": {
        "colab": {
          "base_uri": "https://localhost:8080/"
        },
        "id": "HZPWhieAbPWy",
        "outputId": "7945199b-5235-438b-d893-a1cc12ee6d81"
      },
      "outputs": [],
      "source": [
        "type(posts.created_time)"
      ]
    },
    {
      "cell_type": "code",
      "execution_count": null,
      "metadata": {
        "id": "PnSEYGsBeTFR"
      },
      "outputs": [],
      "source": [
        "tz = pytz.timezone(\"Asia/Singapore\")"
      ]
    },
    {
      "cell_type": "code",
      "execution_count": null,
      "metadata": {
        "colab": {
          "base_uri": "https://localhost:8080/"
        },
        "id": "CrNW7TpA4_vZ",
        "outputId": "04dddf37-20ea-4c90-c7a6-0b0b575c0ffe"
      },
      "outputs": [],
      "source": [
        "today = date.today()\n",
        "midnight_local = datetime.combine(today, time())\n",
        "sing_midnight = tz.localize(midnight_local)\n",
        "print(today)\n",
        "print(midnight_local)\n",
        "yesterday = sing_midnight - timedelta(days=1)\n",
        "begining = sing_midnight\n"
      ]
    },
    {
      "cell_type": "code",
      "execution_count": null,
      "metadata": {
        "colab": {
          "base_uri": "https://localhost:8080/"
        },
        "id": "GpQ31yun7xkQ",
        "outputId": "1bc2561a-565e-4b7a-9645-8c239d8a3292"
      },
      "outputs": [],
      "source": [
        "print(yesterday)"
      ]
    },
    {
      "cell_type": "code",
      "execution_count": null,
      "metadata": {
        "id": "Zig5I8j-fZy8"
      },
      "outputs": [],
      "source": [
        "mask =  (posts['created_time'] > yesterday) & (posts['created_time'] <= begining)"
      ]
    },
    {
      "cell_type": "code",
      "execution_count": null,
      "metadata": {
        "colab": {
          "base_uri": "https://localhost:8080/",
          "height": 318
        },
        "id": "-7_TQxhR8fi-",
        "outputId": "134aebeb-05ea-4381-c2f4-7614b5358bfe"
      },
      "outputs": [],
      "source": []
    },
    {
      "cell_type": "code",
      "execution_count": null,
      "metadata": {
        "id": "WYdZ1r_n4_va"
      },
      "outputs": [],
      "source": [
        "past_24_posts = posts[mask]"
      ]
    },
    {
      "cell_type": "code",
      "execution_count": null,
      "metadata": {
        "colab": {
          "base_uri": "https://localhost:8080/",
          "height": 1000
        },
        "id": "bX-nTt0I4_vb",
        "outputId": "1f7b30e5-1065-44c3-98af-a3d2648b4977"
      },
      "outputs": [],
      "source": [
        "past_24_posts"
      ]
    },
    {
      "cell_type": "code",
      "execution_count": null,
      "metadata": {
        "id": "sLVhlo8m4_vc"
      },
      "outputs": [],
      "source": [
        "posts.to_csv('test2to3.csv')"
      ]
    },
    {
      "cell_type": "code",
      "execution_count": null,
      "metadata": {
        "id": "ThREnzOT4_vd",
        "outputId": "c552adbb-5146-4b37-96d0-b7939892b5b3"
      },
      "outputs": [],
      "source": [
        "posts['created_time']"
      ]
    },
    {
      "cell_type": "code",
      "execution_count": null,
      "metadata": {},
      "outputs": [],
      "source": [
        "filepath=Path('C:/Users/hares/singaporesub/Data/init_Posts_NoTransform.csv')"
      ]
    },
    {
      "cell_type": "code",
      "execution_count": null,
      "metadata": {
        "id": "BsoRuDDc4_vd"
      },
      "outputs": [],
      "source": [
        "yo=pd.read_csv(filepath)"
      ]
    },
    {
      "cell_type": "code",
      "execution_count": null,
      "metadata": {},
      "outputs": [],
      "source": [
        "yo.nunique()"
      ]
    },
    {
      "cell_type": "code",
      "execution_count": null,
      "metadata": {},
      "outputs": [],
      "source": [
        "yo['created_time']=(pd.to_datetime(yo['created_time'],unit='s',utc=True))\n",
        "yo[\"created_time\"] = yo[\"created_time\"].dt.tz_convert('Asia/Singapore')"
      ]
    },
    {
      "cell_type": "code",
      "execution_count": null,
      "metadata": {},
      "outputs": [],
      "source": [
        "yo.to_csv('testlmao.csv')"
      ]
    },
    {
      "cell_type": "code",
      "execution_count": null,
      "metadata": {},
      "outputs": [],
      "source": []
    }
  ],
  "metadata": {
    "colab": {
      "name": "reddittest.ipynb",
      "provenance": [],
      "toc_visible": true
    },
    "kernelspec": {
      "display_name": "Python 3",
      "language": "python",
      "name": "python3"
    },
    "orig_nbformat": 4,
    "vscode": {
      "interpreter": {
        "hash": "d64bf8c1f77516defb4fb4ab4f063b0bc722209f576d0ea7fbdd74a3494d5225"
      }
    }
  },
  "nbformat": 4,
  "nbformat_minor": 0
}
