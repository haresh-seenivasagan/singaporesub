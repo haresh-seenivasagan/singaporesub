{
  "cells": [
    {
      "cell_type": "code",
      "execution_count": 2,
      "metadata": {
        "id": "Ag06tHqt4_vP"
      },
      "outputs": [],
      "source": [
        "import praw\n",
        "import  sys\n",
        "from praw.models import MoreComments\n",
        "import pandas as pd\n",
        "import pprint\n",
        "from datetime import datetime , timedelta ,date ,time\n",
        "import pytz\n",
        "from pathlib import Path"
      ]
    },
    {
      "cell_type": "code",
      "execution_count": 51,
      "metadata": {
        "colab": {
          "base_uri": "https://localhost:8080/"
        },
        "id": "PRx-t-_S5Kcn",
        "outputId": "01805e6b-05d7-4644-ec82-7fcab90d40f3"
      },
      "outputs": [
        {
          "name": "stdout",
          "output_type": "stream",
          "text": [
            "Looking in indexes: https://pypi.org/simple, https://us-python.pkg.dev/colab-wheels/public/simple/\n",
            "Requirement already satisfied: praw in /usr/local/lib/python3.7/dist-packages (7.6.0)\n",
            "Requirement already satisfied: prawcore<3,>=2.1 in /usr/local/lib/python3.7/dist-packages (from praw) (2.3.0)\n",
            "Requirement already satisfied: websocket-client>=0.54.0 in /usr/local/lib/python3.7/dist-packages (from praw) (1.3.3)\n",
            "Requirement already satisfied: update-checker>=0.18 in /usr/local/lib/python3.7/dist-packages (from praw) (0.18.0)\n",
            "Requirement already satisfied: requests<3.0,>=2.6.0 in /usr/local/lib/python3.7/dist-packages (from prawcore<3,>=2.1->praw) (2.23.0)\n",
            "Requirement already satisfied: idna<3,>=2.5 in /usr/local/lib/python3.7/dist-packages (from requests<3.0,>=2.6.0->prawcore<3,>=2.1->praw) (2.10)\n",
            "Requirement already satisfied: chardet<4,>=3.0.2 in /usr/local/lib/python3.7/dist-packages (from requests<3.0,>=2.6.0->prawcore<3,>=2.1->praw) (3.0.4)\n",
            "Requirement already satisfied: certifi>=2017.4.17 in /usr/local/lib/python3.7/dist-packages (from requests<3.0,>=2.6.0->prawcore<3,>=2.1->praw) (2022.6.15)\n",
            "Requirement already satisfied: urllib3!=1.25.0,!=1.25.1,<1.26,>=1.21.1 in /usr/local/lib/python3.7/dist-packages (from requests<3.0,>=2.6.0->prawcore<3,>=2.1->praw) (1.24.3)\n"
          ]
        }
      ],
      "source": [
        "! pip install praw"
      ]
    },
    {
      "cell_type": "code",
      "execution_count": 3,
      "metadata": {
        "id": "PFjvJ4gJ4_vR"
      },
      "outputs": [],
      "source": [
        "reddit = praw.Reddit(\n",
        "        client_id=\"Mf3cdHYsO1pTQ8SXMJWF6Q\",\n",
        "        client_secret=\"_5qEJwsVcGp1HUneUvTPOQfeNvWeKQ\",\n",
        "        user_agent=\"Collect to data visualize r/singapore\",#  description\n",
        "        password=\"Haresh_2255\",            \n",
        "        username=\"Apart_climate_8516\" # TODO make creds secure\n",
        "        ,check_for_async=False)"
      ]
    },
    {
      "cell_type": "code",
      "execution_count": 11,
      "metadata": {
        "colab": {
          "base_uri": "https://localhost:8080/"
        },
        "id": "_YUzcet64_vS",
        "outputId": "eb7cfb8e-71cf-4f14-d05e-d1aea0340abc"
      },
      "outputs": [
        {
          "name": "stdout",
          "output_type": "stream",
          "text": [
            "False\n"
          ]
        }
      ],
      "source": [
        "print(reddit.read_only)"
      ]
    },
    {
      "cell_type": "code",
      "execution_count": 15,
      "metadata": {
        "colab": {
          "base_uri": "https://localhost:8080/"
        },
        "id": "EuPaFUaB4_vV",
        "outputId": "f29c89f8-2788-4b7e-f462-8cede0b5282b"
      },
      "outputs": [
        {
          "name": "stdout",
          "output_type": "stream",
          "text": [
            "{'_fetched': False,\n",
            " '_path': 'r/singapore/',\n",
            " '_reddit': <praw.reddit.Reddit object at 0x00000218EF65BF40>,\n",
            " 'display_name': 'singapore'}\n"
          ]
        }
      ],
      "source": [
        "singaporesub = reddit.subreddit(\"singapore\")\n",
        "pprint.pprint(vars(singaporesub))\n",
        "posts = []\n",
        "author_details = []"
      ]
    },
    {
      "cell_type": "code",
      "execution_count": 16,
      "metadata": {
        "colab": {
          "base_uri": "https://localhost:8080/"
        },
        "id": "IjheGBMI4_vW",
        "outputId": "b537be15-66bd-432b-dced-6cdfbc559039"
      },
      "outputs": [
        {
          "name": "stdout",
          "output_type": "stream",
          "text": [
            "887\n"
          ]
        }
      ],
      "source": [
        "\n",
        "for post in singaporesub.new(limit=None):\n",
        "    \n",
        "    if post.author == None:\n",
        "       continue\n",
        "    else:        \n",
        "       posts.append([post.title,post.selftext,post.id,post.score,post.upvote_ratio,post.link_flair_text,post.created_utc,post.num_comments,post.author.id,post.url,post.distinguished,post.is_original_content])\n",
        "      # author_details.append([post.author.id,post.id,post.author,post.author.link_karma,post.author.comment_karma,post.author.created_utc,post.author.is_gold,post.author.is_mod,post.author.is_employee,post.author.is_suspended])\n",
        "\n",
        "\n",
        "posts = pd.DataFrame(posts,columns=['title', 'body', 'post_id' ,'score', 'upvote_ratio', 'flair', 'created_time', 'num_comments','author' ,'author_link_karma','url','distinguished','is_original_content'])\n",
        "print(len(posts))\n",
        "\n",
        "    # print(submission.title)|\n",
        "    # print(submission.selftext)\n",
        "    # # Output: the submission's title\n",
        "    # print(submission.score)\n",
        "    # print(submission.upvote_ratio)\n",
        "    # # Output: the submission's score\n",
        "    # print(submission.id)\n",
        "    # # Output: the submission's ID\n",
        "    # print(submission.url)\n",
        "    # print(submission.link_flair_text)\n",
        "    # print(submission.num_comments)\n",
        "    # print(submission.created_utc)\n",
        "\n",
        "    # print(submission.author)\n",
        "    # print(submission.author.link_karma)\n",
        "    # print(submission.author.is_gold)\n",
        "    # print(submission.author.is_mod)\n",
        "    # print(submission.author.is_employee)\n",
        "    # submission.comment_sort = \"confidence\"\n",
        "    # comments = submission.comments.list()\n",
        "    # for comm in comments:\n",
        "    #     if isinstance(comm, MoreComments):\n",
        "    #         continue\n",
        "    #     print(comm.body)\n",
        "    #     print(comm.score)\n",
        "    #     print(comm.link_id)\n",
        "    #     print(comm.id)\n",
        "       \n",
        "    \n",
        "  \n",
        "    \n",
        "    \n",
        "    #    TODO   FIGURE OUT COMMENT FOREST\n",
        "    # TODO comment sorting\n",
        "    # TODO does the script need argumen for date ?\n",
        "    # TODO  can anythin be done with the author \n",
        "\n",
        "    \n",
        "  \n"
      ]
    },
    {
      "cell_type": "code",
      "execution_count": 17,
      "metadata": {
        "colab": {
          "base_uri": "https://localhost:8080/"
        },
        "id": "1dvShk8w4_vX",
        "outputId": "b1678c3f-23ab-4626-9d07-eb5014e2bb35"
      },
      "outputs": [
        {
          "name": "stdout",
          "output_type": "stream",
          "text": [
            "                                               title  \\\n",
            "0   Does Singapore need to execute drug traffickers?   \n",
            "1  13-year high core inflation: How Singapore is ...   \n",
            "2  Underpaid? Only 31% of employees say they are ...   \n",
            "3               Any places to go/rent for interview?   \n",
            "4  The Beverly Hills of Singapore Shows Signs of ...   \n",
            "\n",
            "                                                body      id  score  \\\n",
            "0                                                     vr008e      0   \n",
            "1                                                     vqz0pr     24   \n",
            "2                                                     vqyqyy     23   \n",
            "3  My place is scheduled to have its internet shu...  vqwwwg      7   \n",
            "4                                                     vqwtbe      0   \n",
            "\n",
            "   upvote_ratio                 flair  created_time  num_comments  \\\n",
            "0          0.31  Opinion / Fluff Post  1.656912e+09             4   \n",
            "1          0.86                  News  1.656909e+09            20   \n",
            "2          0.88                  News  1.656908e+09            11   \n",
            "3          0.71            Discussion  1.656901e+09            26   \n",
            "4          0.38                  News  1.656901e+09             3   \n",
            "\n",
            "                 author  author_link_karma  \\\n",
            "0       thestudiomaster               9095   \n",
            "1  lobangbecausenomoney              13418   \n",
            "2     MicrotechAnalysis             126458   \n",
            "3            theysquawk                181   \n",
            "4       thestudiomaster               9095   \n",
            "\n",
            "                                                 url distinguished  \\\n",
            "0  https://www.malaymail.com/news/opinion/2022/07...          None   \n",
            "1  https://asianews.network/13-year-high-core-inf...          None   \n",
            "2  https://sbr.com.sg/hr-education/news/underpaid...          None   \n",
            "3  https://www.reddit.com/r/singapore/comments/vq...          None   \n",
            "4  https://www.washingtonpost.com/business/the-be...          None   \n",
            "\n",
            "   is_original_content  \n",
            "0                False  \n",
            "1                False  \n",
            "2                False  \n",
            "3                False  \n",
            "4                False  \n"
          ]
        }
      ],
      "source": [
        "print(posts.head())"
      ]
    },
    {
      "cell_type": "code",
      "execution_count": null,
      "metadata": {},
      "outputs": [],
      "source": [
        "filepath = Path('C:/Users/hares/singaporesub/Data/init_Comments_NoTransform.csv')"
      ]
    },
    {
      "cell_type": "code",
      "execution_count": 18,
      "metadata": {
        "colab": {
          "base_uri": "https://localhost:8080/"
        },
        "id": "GHsLkAXJ5G38",
        "outputId": "166c9d4a-5b98-47ce-aef5-0d3f54e1307b"
      },
      "outputs": [],
      "source": [
        "posts.to_csv(filepath)"
      ]
    },
    {
      "cell_type": "code",
      "execution_count": 66,
      "metadata": {
        "id": "-tQSQ_GE4_vZ"
      },
      "outputs": [],
      "source": [
        "posts['created_time']=(pd.to_datetime(posts['created_time'],unit='s',utc=True))"
      ]
    },
    {
      "cell_type": "code",
      "execution_count": 68,
      "metadata": {
        "id": "XREn2uDObPFV"
      },
      "outputs": [],
      "source": [
        "posts[\"created_time\"] = posts[\"created_time\"].dt.tz_convert('Asia/Singapore')"
      ]
    },
    {
      "cell_type": "code",
      "execution_count": 70,
      "metadata": {
        "colab": {
          "base_uri": "https://localhost:8080/"
        },
        "id": "gOvJ5e_7dJtI",
        "outputId": "512c741e-cb4f-472e-d9bc-d151df74aea6"
      },
      "outputs": [
        {
          "data": {
            "text/plain": [
              "0     2022-07-03 15:32:02+08:00\n",
              "1     2022-07-03 15:23:00+08:00\n",
              "2     2022-07-03 13:54:15+08:00\n",
              "3     2022-07-03 13:54:11+08:00\n",
              "4     2022-07-03 13:53:50+08:00\n",
              "                 ...           \n",
              "891   2022-05-31 15:00:57+08:00\n",
              "892   2022-05-31 14:56:30+08:00\n",
              "893   2022-05-31 13:47:31+08:00\n",
              "894   2022-05-31 13:45:41+08:00\n",
              "895   2022-05-31 12:42:26+08:00\n",
              "Name: created_time, Length: 896, dtype: datetime64[ns, Asia/Singapore]"
            ]
          },
          "execution_count": 70,
          "metadata": {},
          "output_type": "execute_result"
        }
      ],
      "source": [
        "posts.created_time"
      ]
    },
    {
      "cell_type": "code",
      "execution_count": 65,
      "metadata": {
        "colab": {
          "base_uri": "https://localhost:8080/"
        },
        "id": "HZPWhieAbPWy",
        "outputId": "7945199b-5235-438b-d893-a1cc12ee6d81"
      },
      "outputs": [
        {
          "data": {
            "text/plain": [
              "pandas.core.series.Series"
            ]
          },
          "execution_count": 65,
          "metadata": {},
          "output_type": "execute_result"
        }
      ],
      "source": [
        "type(posts.created_time)"
      ]
    },
    {
      "cell_type": "code",
      "execution_count": 86,
      "metadata": {
        "id": "PnSEYGsBeTFR"
      },
      "outputs": [],
      "source": [
        "tz = pytz.timezone(\"Asia/Singapore\")"
      ]
    },
    {
      "cell_type": "code",
      "execution_count": 93,
      "metadata": {
        "colab": {
          "base_uri": "https://localhost:8080/"
        },
        "id": "CrNW7TpA4_vZ",
        "outputId": "04dddf37-20ea-4c90-c7a6-0b0b575c0ffe"
      },
      "outputs": [
        {
          "name": "stdout",
          "output_type": "stream",
          "text": [
            "2022-07-03\n",
            "2022-07-03 00:00:00\n"
          ]
        }
      ],
      "source": [
        "today = date.today()\n",
        "midnight_local = datetime.combine(today, time())\n",
        "sing_midnight = tz.localize(midnight_local)\n",
        "print(today)\n",
        "print(midnight_local)\n",
        "yesterday = sing_midnight - timedelta(days=1)\n",
        "begining = sing_midnight\n"
      ]
    },
    {
      "cell_type": "code",
      "execution_count": 91,
      "metadata": {
        "colab": {
          "base_uri": "https://localhost:8080/"
        },
        "id": "GpQ31yun7xkQ",
        "outputId": "1bc2561a-565e-4b7a-9645-8c239d8a3292"
      },
      "outputs": [
        {
          "name": "stdout",
          "output_type": "stream",
          "text": [
            "2022-07-02 00:00:00+08:00\n"
          ]
        }
      ],
      "source": [
        "print(yesterday)"
      ]
    },
    {
      "cell_type": "code",
      "execution_count": 98,
      "metadata": {
        "id": "Zig5I8j-fZy8"
      },
      "outputs": [],
      "source": [
        "mask =  (posts['created_time'] > yesterday) & (posts['created_time'] <= begining)"
      ]
    },
    {
      "cell_type": "code",
      "execution_count": 97,
      "metadata": {
        "colab": {
          "base_uri": "https://localhost:8080/",
          "height": 318
        },
        "id": "-7_TQxhR8fi-",
        "outputId": "134aebeb-05ea-4381-c2f4-7614b5358bfe"
      },
      "outputs": [
        {
          "ename": "TypeError",
          "evalue": "ignored",
          "output_type": "error",
          "traceback": [
            "\u001b[0;31m---------------------------------------------------------------------------\u001b[0m",
            "\u001b[0;31mTypeError\u001b[0m                                 Traceback (most recent call last)",
            "\u001b[0;32m<ipython-input-97-ad12df26903a>\u001b[0m in \u001b[0;36m<module>\u001b[0;34m()\u001b[0m\n\u001b[0;32m----> 1\u001b[0;31m \u001b[0mlen\u001b[0m\u001b[0;34m(\u001b[0m\u001b[0mposts\u001b[0m\u001b[0;34m[\u001b[0m\u001b[0mposts\u001b[0m\u001b[0;34m.\u001b[0m\u001b[0mcreated_time\u001b[0m \u001b[0;34m>\u001b[0m \u001b[0myesterday\u001b[0m \u001b[0;34m&\u001b[0m \u001b[0mposts\u001b[0m\u001b[0;34m.\u001b[0m\u001b[0mcreated_time\u001b[0m \u001b[0;34m<\u001b[0m \u001b[0mbegining\u001b[0m\u001b[0;34m]\u001b[0m\u001b[0;34m)\u001b[0m\u001b[0;34m\u001b[0m\u001b[0;34m\u001b[0m\u001b[0m\n\u001b[0m",
            "\u001b[0;32m/usr/local/lib/python3.7/dist-packages/pandas/core/ops/common.py\u001b[0m in \u001b[0;36mnew_method\u001b[0;34m(self, other)\u001b[0m\n\u001b[1;32m     67\u001b[0m         \u001b[0mother\u001b[0m \u001b[0;34m=\u001b[0m \u001b[0mitem_from_zerodim\u001b[0m\u001b[0;34m(\u001b[0m\u001b[0mother\u001b[0m\u001b[0;34m)\u001b[0m\u001b[0;34m\u001b[0m\u001b[0;34m\u001b[0m\u001b[0m\n\u001b[1;32m     68\u001b[0m \u001b[0;34m\u001b[0m\u001b[0m\n\u001b[0;32m---> 69\u001b[0;31m         \u001b[0;32mreturn\u001b[0m \u001b[0mmethod\u001b[0m\u001b[0;34m(\u001b[0m\u001b[0mself\u001b[0m\u001b[0;34m,\u001b[0m \u001b[0mother\u001b[0m\u001b[0;34m)\u001b[0m\u001b[0;34m\u001b[0m\u001b[0;34m\u001b[0m\u001b[0m\n\u001b[0m\u001b[1;32m     70\u001b[0m \u001b[0;34m\u001b[0m\u001b[0m\n\u001b[1;32m     71\u001b[0m     \u001b[0;32mreturn\u001b[0m \u001b[0mnew_method\u001b[0m\u001b[0;34m\u001b[0m\u001b[0;34m\u001b[0m\u001b[0m\n",
            "\u001b[0;32m/usr/local/lib/python3.7/dist-packages/pandas/core/arraylike.py\u001b[0m in \u001b[0;36m__rand__\u001b[0;34m(self, other)\u001b[0m\n\u001b[1;32m     64\u001b[0m     \u001b[0;34m@\u001b[0m\u001b[0munpack_zerodim_and_defer\u001b[0m\u001b[0;34m(\u001b[0m\u001b[0;34m\"__rand__\"\u001b[0m\u001b[0;34m)\u001b[0m\u001b[0;34m\u001b[0m\u001b[0;34m\u001b[0m\u001b[0m\n\u001b[1;32m     65\u001b[0m     \u001b[0;32mdef\u001b[0m \u001b[0m__rand__\u001b[0m\u001b[0;34m(\u001b[0m\u001b[0mself\u001b[0m\u001b[0;34m,\u001b[0m \u001b[0mother\u001b[0m\u001b[0;34m)\u001b[0m\u001b[0;34m:\u001b[0m\u001b[0;34m\u001b[0m\u001b[0;34m\u001b[0m\u001b[0m\n\u001b[0;32m---> 66\u001b[0;31m         \u001b[0;32mreturn\u001b[0m \u001b[0mself\u001b[0m\u001b[0;34m.\u001b[0m\u001b[0m_logical_method\u001b[0m\u001b[0;34m(\u001b[0m\u001b[0mother\u001b[0m\u001b[0;34m,\u001b[0m \u001b[0mroperator\u001b[0m\u001b[0;34m.\u001b[0m\u001b[0mrand_\u001b[0m\u001b[0;34m)\u001b[0m\u001b[0;34m\u001b[0m\u001b[0;34m\u001b[0m\u001b[0m\n\u001b[0m\u001b[1;32m     67\u001b[0m \u001b[0;34m\u001b[0m\u001b[0m\n\u001b[1;32m     68\u001b[0m     \u001b[0;34m@\u001b[0m\u001b[0munpack_zerodim_and_defer\u001b[0m\u001b[0;34m(\u001b[0m\u001b[0;34m\"__or__\"\u001b[0m\u001b[0;34m)\u001b[0m\u001b[0;34m\u001b[0m\u001b[0;34m\u001b[0m\u001b[0m\n",
            "\u001b[0;32m/usr/local/lib/python3.7/dist-packages/pandas/core/series.py\u001b[0m in \u001b[0;36m_logical_method\u001b[0;34m(self, other, op)\u001b[0m\n\u001b[1;32m   5511\u001b[0m         \u001b[0mrvalues\u001b[0m \u001b[0;34m=\u001b[0m \u001b[0mextract_array\u001b[0m\u001b[0;34m(\u001b[0m\u001b[0mother\u001b[0m\u001b[0;34m,\u001b[0m \u001b[0mextract_numpy\u001b[0m\u001b[0;34m=\u001b[0m\u001b[0;32mTrue\u001b[0m\u001b[0;34m,\u001b[0m \u001b[0mextract_range\u001b[0m\u001b[0;34m=\u001b[0m\u001b[0;32mTrue\u001b[0m\u001b[0;34m)\u001b[0m\u001b[0;34m\u001b[0m\u001b[0;34m\u001b[0m\u001b[0m\n\u001b[1;32m   5512\u001b[0m \u001b[0;34m\u001b[0m\u001b[0m\n\u001b[0;32m-> 5513\u001b[0;31m         \u001b[0mres_values\u001b[0m \u001b[0;34m=\u001b[0m \u001b[0mops\u001b[0m\u001b[0;34m.\u001b[0m\u001b[0mlogical_op\u001b[0m\u001b[0;34m(\u001b[0m\u001b[0mlvalues\u001b[0m\u001b[0;34m,\u001b[0m \u001b[0mrvalues\u001b[0m\u001b[0;34m,\u001b[0m \u001b[0mop\u001b[0m\u001b[0;34m)\u001b[0m\u001b[0;34m\u001b[0m\u001b[0;34m\u001b[0m\u001b[0m\n\u001b[0m\u001b[1;32m   5514\u001b[0m         \u001b[0;32mreturn\u001b[0m \u001b[0mself\u001b[0m\u001b[0;34m.\u001b[0m\u001b[0m_construct_result\u001b[0m\u001b[0;34m(\u001b[0m\u001b[0mres_values\u001b[0m\u001b[0;34m,\u001b[0m \u001b[0mname\u001b[0m\u001b[0;34m=\u001b[0m\u001b[0mres_name\u001b[0m\u001b[0;34m)\u001b[0m\u001b[0;34m\u001b[0m\u001b[0;34m\u001b[0m\u001b[0m\n\u001b[1;32m   5515\u001b[0m \u001b[0;34m\u001b[0m\u001b[0m\n",
            "\u001b[0;32m/usr/local/lib/python3.7/dist-packages/pandas/core/ops/array_ops.py\u001b[0m in \u001b[0;36mlogical_op\u001b[0;34m(left, right, op)\u001b[0m\n\u001b[1;32m    375\u001b[0m     \u001b[0;32mif\u001b[0m \u001b[0mshould_extension_dispatch\u001b[0m\u001b[0;34m(\u001b[0m\u001b[0mlvalues\u001b[0m\u001b[0;34m,\u001b[0m \u001b[0mrvalues\u001b[0m\u001b[0;34m)\u001b[0m\u001b[0;34m:\u001b[0m\u001b[0;34m\u001b[0m\u001b[0;34m\u001b[0m\u001b[0m\n\u001b[1;32m    376\u001b[0m         \u001b[0;31m# Call the method on lvalues\u001b[0m\u001b[0;34m\u001b[0m\u001b[0;34m\u001b[0m\u001b[0;34m\u001b[0m\u001b[0m\n\u001b[0;32m--> 377\u001b[0;31m         \u001b[0mres_values\u001b[0m \u001b[0;34m=\u001b[0m \u001b[0mop\u001b[0m\u001b[0;34m(\u001b[0m\u001b[0mlvalues\u001b[0m\u001b[0;34m,\u001b[0m \u001b[0mrvalues\u001b[0m\u001b[0;34m)\u001b[0m\u001b[0;34m\u001b[0m\u001b[0;34m\u001b[0m\u001b[0m\n\u001b[0m\u001b[1;32m    378\u001b[0m \u001b[0;34m\u001b[0m\u001b[0m\n\u001b[1;32m    379\u001b[0m     \u001b[0;32melse\u001b[0m\u001b[0;34m:\u001b[0m\u001b[0;34m\u001b[0m\u001b[0;34m\u001b[0m\u001b[0m\n",
            "\u001b[0;32m/usr/local/lib/python3.7/dist-packages/pandas/core/roperator.py\u001b[0m in \u001b[0;36mrand_\u001b[0;34m(left, right)\u001b[0m\n\u001b[1;32m     50\u001b[0m \u001b[0;34m\u001b[0m\u001b[0m\n\u001b[1;32m     51\u001b[0m \u001b[0;32mdef\u001b[0m \u001b[0mrand_\u001b[0m\u001b[0;34m(\u001b[0m\u001b[0mleft\u001b[0m\u001b[0;34m,\u001b[0m \u001b[0mright\u001b[0m\u001b[0;34m)\u001b[0m\u001b[0;34m:\u001b[0m\u001b[0;34m\u001b[0m\u001b[0;34m\u001b[0m\u001b[0m\n\u001b[0;32m---> 52\u001b[0;31m     \u001b[0;32mreturn\u001b[0m \u001b[0moperator\u001b[0m\u001b[0;34m.\u001b[0m\u001b[0mand_\u001b[0m\u001b[0;34m(\u001b[0m\u001b[0mright\u001b[0m\u001b[0;34m,\u001b[0m \u001b[0mleft\u001b[0m\u001b[0;34m)\u001b[0m\u001b[0;34m\u001b[0m\u001b[0;34m\u001b[0m\u001b[0m\n\u001b[0m\u001b[1;32m     53\u001b[0m \u001b[0;34m\u001b[0m\u001b[0m\n\u001b[1;32m     54\u001b[0m \u001b[0;34m\u001b[0m\u001b[0m\n",
            "\u001b[0;31mTypeError\u001b[0m: unsupported operand type(s) for &: 'datetime.datetime' and 'DatetimeArray'"
          ]
        }
      ],
      "source": []
    },
    {
      "cell_type": "code",
      "execution_count": 99,
      "metadata": {
        "id": "WYdZ1r_n4_va"
      },
      "outputs": [],
      "source": [
        "past_24_posts = posts[mask]"
      ]
    },
    {
      "cell_type": "code",
      "execution_count": 100,
      "metadata": {
        "colab": {
          "base_uri": "https://localhost:8080/",
          "height": 1000
        },
        "id": "bX-nTt0I4_vb",
        "outputId": "1f7b30e5-1065-44c3-98af-a3d2648b4977"
      },
      "outputs": [
        {
          "data": {
            "text/html": [
              "\n",
              "  <div id=\"df-1ada4b27-fb7b-4d6d-b5fc-740a3d532845\">\n",
              "    <div class=\"colab-df-container\">\n",
              "      <div>\n",
              "<style scoped>\n",
              "    .dataframe tbody tr th:only-of-type {\n",
              "        vertical-align: middle;\n",
              "    }\n",
              "\n",
              "    .dataframe tbody tr th {\n",
              "        vertical-align: top;\n",
              "    }\n",
              "\n",
              "    .dataframe thead th {\n",
              "        text-align: right;\n",
              "    }\n",
              "</style>\n",
              "<table border=\"1\" class=\"dataframe\">\n",
              "  <thead>\n",
              "    <tr style=\"text-align: right;\">\n",
              "      <th></th>\n",
              "      <th>title</th>\n",
              "      <th>body</th>\n",
              "      <th>id</th>\n",
              "      <th>score</th>\n",
              "      <th>upvote_ratio</th>\n",
              "      <th>flair</th>\n",
              "      <th>created_time</th>\n",
              "      <th>num_comments</th>\n",
              "      <th>author</th>\n",
              "      <th>author_link_karma</th>\n",
              "      <th>url</th>\n",
              "    </tr>\n",
              "  </thead>\n",
              "  <tbody>\n",
              "    <tr>\n",
              "      <th>19</th>\n",
              "      <td>Para-athletes to receive higher cash rewards f...</td>\n",
              "      <td></td>\n",
              "      <td>vpu25e</td>\n",
              "      <td>51</td>\n",
              "      <td>0.88</td>\n",
              "      <td>News</td>\n",
              "      <td>2022-07-02 23:21:06+08:00</td>\n",
              "      <td>10</td>\n",
              "      <td>MicrotechAnalysis</td>\n",
              "      <td>126163</td>\n",
              "      <td>https://www.channelnewsasia.com/sport/para-ath...</td>\n",
              "    </tr>\n",
              "    <tr>\n",
              "      <th>20</th>\n",
              "      <td>NDP National Education Show for Primary 5 pupi...</td>\n",
              "      <td></td>\n",
              "      <td>vprk5a</td>\n",
              "      <td>102</td>\n",
              "      <td>0.91</td>\n",
              "      <td>News</td>\n",
              "      <td>2022-07-02 21:14:30+08:00</td>\n",
              "      <td>17</td>\n",
              "      <td>Jammy_buttons2</td>\n",
              "      <td>67724</td>\n",
              "      <td>https://www.straitstimes.com/singapore/ndp-nat...</td>\n",
              "    </tr>\n",
              "    <tr>\n",
              "      <th>21</th>\n",
              "      <td>'A single hanging of a drug trafficker is a tr...</td>\n",
              "      <td></td>\n",
              "      <td>vpr2u9</td>\n",
              "      <td>502</td>\n",
              "      <td>0.91</td>\n",
              "      <td>Opinion / Fluff Post</td>\n",
              "      <td>2022-07-02 20:48:03+08:00</td>\n",
              "      <td>281</td>\n",
              "      <td>yrt97</td>\n",
              "      <td>18616</td>\n",
              "      <td>https://www.straitstimes.com/opinion/a-single-...</td>\n",
              "    </tr>\n",
              "    <tr>\n",
              "      <th>22</th>\n",
              "      <td>Crypto billionaire Zhu Su to sell Bukit Timah ...</td>\n",
              "      <td></td>\n",
              "      <td>vpqg1d</td>\n",
              "      <td>141</td>\n",
              "      <td>0.94</td>\n",
              "      <td>Tabloid/Low-quality source</td>\n",
              "      <td>2022-07-02 20:10:45+08:00</td>\n",
              "      <td>61</td>\n",
              "      <td>MicrotechAnalysis</td>\n",
              "      <td>126163</td>\n",
              "      <td>https://mothership.sg/2022/07/zhu-su-three-arr...</td>\n",
              "    </tr>\n",
              "    <tr>\n",
              "      <th>23</th>\n",
              "      <td>Lawyer suspended 5 years for 'lackadaisical' c...</td>\n",
              "      <td></td>\n",
              "      <td>vppp73</td>\n",
              "      <td>79</td>\n",
              "      <td>0.97</td>\n",
              "      <td>News</td>\n",
              "      <td>2022-07-02 19:25:42+08:00</td>\n",
              "      <td>17</td>\n",
              "      <td>Jonnyboo234</td>\n",
              "      <td>10346</td>\n",
              "      <td>https://www.straitstimes.com/singapore/courts-...</td>\n",
              "    </tr>\n",
              "    <tr>\n",
              "      <th>24</th>\n",
              "      <td>Close to 18,000 dengue cases reported in first...</td>\n",
              "      <td></td>\n",
              "      <td>vpoenl</td>\n",
              "      <td>73</td>\n",
              "      <td>0.96</td>\n",
              "      <td>News</td>\n",
              "      <td>2022-07-02 18:00:37+08:00</td>\n",
              "      <td>32</td>\n",
              "      <td>Thefunincaifun</td>\n",
              "      <td>22120</td>\n",
              "      <td>https://www.straitstimes.com/singapore/close-t...</td>\n",
              "    </tr>\n",
              "    <tr>\n",
              "      <th>25</th>\n",
              "      <td>Buyer of S$41.6m Tampines kopitiam also buys n...</td>\n",
              "      <td></td>\n",
              "      <td>vpo8h3</td>\n",
              "      <td>150</td>\n",
              "      <td>0.94</td>\n",
              "      <td>Tabloid/Low-quality source</td>\n",
              "      <td>2022-07-02 17:48:51+08:00</td>\n",
              "      <td>34</td>\n",
              "      <td>lobangbecausenomoney</td>\n",
              "      <td>13400</td>\n",
              "      <td>https://theindependent.sg/buyer-of-s41-6m-tamp...</td>\n",
              "    </tr>\n",
              "    <tr>\n",
              "      <th>26</th>\n",
              "      <td>The biggest risks to Singapore’s primacy in As...</td>\n",
              "      <td></td>\n",
              "      <td>vpmr3y</td>\n",
              "      <td>11</td>\n",
              "      <td>0.67</td>\n",
              "      <td>Opinion / Fluff Post</td>\n",
              "      <td>2022-07-02 16:04:34+08:00</td>\n",
              "      <td>2</td>\n",
              "      <td>AsparagusTamer</td>\n",
              "      <td>200</td>\n",
              "      <td>https://sg.finance.yahoo.com/news/singapore-to...</td>\n",
              "    </tr>\n",
              "    <tr>\n",
              "      <th>27</th>\n",
              "      <td>'He's a changed man': Cathay busker Jeff Ng's ...</td>\n",
              "      <td></td>\n",
              "      <td>vpm4he</td>\n",
              "      <td>0</td>\n",
              "      <td>0.41</td>\n",
              "      <td>News</td>\n",
              "      <td>2022-07-02 15:20:12+08:00</td>\n",
              "      <td>49</td>\n",
              "      <td>Lu5ck</td>\n",
              "      <td>4870</td>\n",
              "      <td>https://www.asiaone.com/lifestyle/hes-changed-...</td>\n",
              "    </tr>\n",
              "    <tr>\n",
              "      <th>28</th>\n",
              "      <td>Ang Mo Kio Sers: New options of replacement fl...</td>\n",
              "      <td></td>\n",
              "      <td>vpltii</td>\n",
              "      <td>55</td>\n",
              "      <td>0.93</td>\n",
              "      <td>News</td>\n",
              "      <td>2022-07-02 14:59:34+08:00</td>\n",
              "      <td>25</td>\n",
              "      <td>Jammy_buttons2</td>\n",
              "      <td>67724</td>\n",
              "      <td>https://www.todayonline.com/singapore/ang-mo-k...</td>\n",
              "    </tr>\n",
              "    <tr>\n",
              "      <th>29</th>\n",
              "      <td>Will Russia ‘punish’ Singapore, Japan and othe...</td>\n",
              "      <td></td>\n",
              "      <td>vplt3c</td>\n",
              "      <td>39</td>\n",
              "      <td>0.79</td>\n",
              "      <td>Tabloid/Low-quality source</td>\n",
              "      <td>2022-07-02 14:58:42+08:00</td>\n",
              "      <td>24</td>\n",
              "      <td>uncomfortablehistory</td>\n",
              "      <td>5063</td>\n",
              "      <td>https://www.scmp.com/week-asia/politics/articl...</td>\n",
              "    </tr>\n",
              "    <tr>\n",
              "      <th>30</th>\n",
              "      <td>Adulting 101: I take revenge on my lack of fre...</td>\n",
              "      <td></td>\n",
              "      <td>vpl35s</td>\n",
              "      <td>289</td>\n",
              "      <td>0.96</td>\n",
              "      <td>News</td>\n",
              "      <td>2022-07-02 14:09:49+08:00</td>\n",
              "      <td>31</td>\n",
              "      <td>MicrotechAnalysis</td>\n",
              "      <td>126163</td>\n",
              "      <td>https://www.todayonline.com/singapore/adulting...</td>\n",
              "    </tr>\n",
              "    <tr>\n",
              "      <th>31</th>\n",
              "      <td>Marquee, one of S'pore's largest clubs, jam pa...</td>\n",
              "      <td></td>\n",
              "      <td>vpj26e</td>\n",
              "      <td>168</td>\n",
              "      <td>0.92</td>\n",
              "      <td>Tabloid/Low-quality source</td>\n",
              "      <td>2022-07-02 12:03:18+08:00</td>\n",
              "      <td>53</td>\n",
              "      <td>unliketrap</td>\n",
              "      <td>4318</td>\n",
              "      <td>https://mothership.sg/2022/07/marquee-reopen-c...</td>\n",
              "    </tr>\n",
              "    <tr>\n",
              "      <th>32</th>\n",
              "      <td>Chill evening in Bugis</td>\n",
              "      <td></td>\n",
              "      <td>vpipye</td>\n",
              "      <td>792</td>\n",
              "      <td>0.98</td>\n",
              "      <td>Photos, Videos</td>\n",
              "      <td>2022-07-02 11:43:13+08:00</td>\n",
              "      <td>54</td>\n",
              "      <td>hkstachee</td>\n",
              "      <td>29152</td>\n",
              "      <td>https://v.redd.it/gdc5nssbt2991</td>\n",
              "    </tr>\n",
              "    <tr>\n",
              "      <th>33</th>\n",
              "      <td>Banana cake from Malaysia recalled over preser...</td>\n",
              "      <td></td>\n",
              "      <td>vpgeb0</td>\n",
              "      <td>53</td>\n",
              "      <td>0.93</td>\n",
              "      <td>News</td>\n",
              "      <td>2022-07-02 09:33:31+08:00</td>\n",
              "      <td>1</td>\n",
              "      <td>mailchecker</td>\n",
              "      <td>3729</td>\n",
              "      <td>https://www.channelnewsasia.com/singapore/sfa-...</td>\n",
              "    </tr>\n",
              "    <tr>\n",
              "      <th>34</th>\n",
              "      <td>Posting on behalf! Lost cat around Keat Hong C...</td>\n",
              "      <td></td>\n",
              "      <td>vpgbon</td>\n",
              "      <td>252</td>\n",
              "      <td>0.96</td>\n",
              "      <td>I Made This</td>\n",
              "      <td>2022-07-02 09:29:29+08:00</td>\n",
              "      <td>18</td>\n",
              "      <td>zibin</td>\n",
              "      <td>27966</td>\n",
              "      <td>https://i.redd.it/8z4nn5o952991.jpg</td>\n",
              "    </tr>\n",
              "    <tr>\n",
              "      <th>35</th>\n",
              "      <td>Letter of the week: Proud of minister Shanmuga...</td>\n",
              "      <td></td>\n",
              "      <td>vpg6y7</td>\n",
              "      <td>0</td>\n",
              "      <td>0.39</td>\n",
              "      <td>Opinion / Fluff Post</td>\n",
              "      <td>2022-07-02 09:22:03+08:00</td>\n",
              "      <td>33</td>\n",
              "      <td>yrt97</td>\n",
              "      <td>18616</td>\n",
              "      <td>https://www.straitstimes.com/opinion/forum/let...</td>\n",
              "    </tr>\n",
              "    <tr>\n",
              "      <th>36</th>\n",
              "      <td>Singapore leaders congratulate China and Hong ...</td>\n",
              "      <td></td>\n",
              "      <td>vpg3bw</td>\n",
              "      <td>0</td>\n",
              "      <td>0.42</td>\n",
              "      <td>News</td>\n",
              "      <td>2022-07-02 09:16:34+08:00</td>\n",
              "      <td>18</td>\n",
              "      <td>homerulez7</td>\n",
              "      <td>3227</td>\n",
              "      <td>https://www.channelnewsasia.com/asia/singapore...</td>\n",
              "    </tr>\n",
              "    <tr>\n",
              "      <th>37</th>\n",
              "      <td>Newly famous busker Jeff Ng apologises publicl...</td>\n",
              "      <td></td>\n",
              "      <td>vpfthc</td>\n",
              "      <td>622</td>\n",
              "      <td>0.95</td>\n",
              "      <td>Tabloid/Low-quality source</td>\n",
              "      <td>2022-07-02 09:02:07+08:00</td>\n",
              "      <td>259</td>\n",
              "      <td>risingsuncoc</td>\n",
              "      <td>36486</td>\n",
              "      <td>https://mothership.sg/2022/07/cathay-busker-je...</td>\n",
              "    </tr>\n",
              "    <tr>\n",
              "      <th>38</th>\n",
              "      <td>/r/singapore random discussion and small quest...</td>\n",
              "      <td>Talk about your day. Anything goes, but subred...</td>\n",
              "      <td>vpc7dc</td>\n",
              "      <td>9</td>\n",
              "      <td>0.80</td>\n",
              "      <td>None</td>\n",
              "      <td>2022-07-02 06:00:11+08:00</td>\n",
              "      <td>673</td>\n",
              "      <td>AutoModerator</td>\n",
              "      <td>1000</td>\n",
              "      <td>https://www.reddit.com/r/singapore/comments/vp...</td>\n",
              "    </tr>\n",
              "    <tr>\n",
              "      <th>39</th>\n",
              "      <td>Our moment together, how I wish it lasted forever</td>\n",
              "      <td></td>\n",
              "      <td>vp4hyc</td>\n",
              "      <td>41</td>\n",
              "      <td>0.73</td>\n",
              "      <td>Photos, Videos</td>\n",
              "      <td>2022-07-02 00:11:33+08:00</td>\n",
              "      <td>6</td>\n",
              "      <td>SummerPop</td>\n",
              "      <td>4085</td>\n",
              "      <td>https://i.redd.it/urnh67iydz891.jpg</td>\n",
              "    </tr>\n",
              "  </tbody>\n",
              "</table>\n",
              "</div>\n",
              "      <button class=\"colab-df-convert\" onclick=\"convertToInteractive('df-1ada4b27-fb7b-4d6d-b5fc-740a3d532845')\"\n",
              "              title=\"Convert this dataframe to an interactive table.\"\n",
              "              style=\"display:none;\">\n",
              "        \n",
              "  <svg xmlns=\"http://www.w3.org/2000/svg\" height=\"24px\"viewBox=\"0 0 24 24\"\n",
              "       width=\"24px\">\n",
              "    <path d=\"M0 0h24v24H0V0z\" fill=\"none\"/>\n",
              "    <path d=\"M18.56 5.44l.94 2.06.94-2.06 2.06-.94-2.06-.94-.94-2.06-.94 2.06-2.06.94zm-11 1L8.5 8.5l.94-2.06 2.06-.94-2.06-.94L8.5 2.5l-.94 2.06-2.06.94zm10 10l.94 2.06.94-2.06 2.06-.94-2.06-.94-.94-2.06-.94 2.06-2.06.94z\"/><path d=\"M17.41 7.96l-1.37-1.37c-.4-.4-.92-.59-1.43-.59-.52 0-1.04.2-1.43.59L10.3 9.45l-7.72 7.72c-.78.78-.78 2.05 0 2.83L4 21.41c.39.39.9.59 1.41.59.51 0 1.02-.2 1.41-.59l7.78-7.78 2.81-2.81c.8-.78.8-2.07 0-2.86zM5.41 20L4 18.59l7.72-7.72 1.47 1.35L5.41 20z\"/>\n",
              "  </svg>\n",
              "      </button>\n",
              "      \n",
              "  <style>\n",
              "    .colab-df-container {\n",
              "      display:flex;\n",
              "      flex-wrap:wrap;\n",
              "      gap: 12px;\n",
              "    }\n",
              "\n",
              "    .colab-df-convert {\n",
              "      background-color: #E8F0FE;\n",
              "      border: none;\n",
              "      border-radius: 50%;\n",
              "      cursor: pointer;\n",
              "      display: none;\n",
              "      fill: #1967D2;\n",
              "      height: 32px;\n",
              "      padding: 0 0 0 0;\n",
              "      width: 32px;\n",
              "    }\n",
              "\n",
              "    .colab-df-convert:hover {\n",
              "      background-color: #E2EBFA;\n",
              "      box-shadow: 0px 1px 2px rgba(60, 64, 67, 0.3), 0px 1px 3px 1px rgba(60, 64, 67, 0.15);\n",
              "      fill: #174EA6;\n",
              "    }\n",
              "\n",
              "    [theme=dark] .colab-df-convert {\n",
              "      background-color: #3B4455;\n",
              "      fill: #D2E3FC;\n",
              "    }\n",
              "\n",
              "    [theme=dark] .colab-df-convert:hover {\n",
              "      background-color: #434B5C;\n",
              "      box-shadow: 0px 1px 3px 1px rgba(0, 0, 0, 0.15);\n",
              "      filter: drop-shadow(0px 1px 2px rgba(0, 0, 0, 0.3));\n",
              "      fill: #FFFFFF;\n",
              "    }\n",
              "  </style>\n",
              "\n",
              "      <script>\n",
              "        const buttonEl =\n",
              "          document.querySelector('#df-1ada4b27-fb7b-4d6d-b5fc-740a3d532845 button.colab-df-convert');\n",
              "        buttonEl.style.display =\n",
              "          google.colab.kernel.accessAllowed ? 'block' : 'none';\n",
              "\n",
              "        async function convertToInteractive(key) {\n",
              "          const element = document.querySelector('#df-1ada4b27-fb7b-4d6d-b5fc-740a3d532845');\n",
              "          const dataTable =\n",
              "            await google.colab.kernel.invokeFunction('convertToInteractive',\n",
              "                                                     [key], {});\n",
              "          if (!dataTable) return;\n",
              "\n",
              "          const docLinkHtml = 'Like what you see? Visit the ' +\n",
              "            '<a target=\"_blank\" href=https://colab.research.google.com/notebooks/data_table.ipynb>data table notebook</a>'\n",
              "            + ' to learn more about interactive tables.';\n",
              "          element.innerHTML = '';\n",
              "          dataTable['output_type'] = 'display_data';\n",
              "          await google.colab.output.renderOutput(dataTable, element);\n",
              "          const docLink = document.createElement('div');\n",
              "          docLink.innerHTML = docLinkHtml;\n",
              "          element.appendChild(docLink);\n",
              "        }\n",
              "      </script>\n",
              "    </div>\n",
              "  </div>\n",
              "  "
            ],
            "text/plain": [
              "                                                title  \\\n",
              "19  Para-athletes to receive higher cash rewards f...   \n",
              "20  NDP National Education Show for Primary 5 pupi...   \n",
              "21  'A single hanging of a drug trafficker is a tr...   \n",
              "22  Crypto billionaire Zhu Su to sell Bukit Timah ...   \n",
              "23  Lawyer suspended 5 years for 'lackadaisical' c...   \n",
              "24  Close to 18,000 dengue cases reported in first...   \n",
              "25  Buyer of S$41.6m Tampines kopitiam also buys n...   \n",
              "26  The biggest risks to Singapore’s primacy in As...   \n",
              "27  'He's a changed man': Cathay busker Jeff Ng's ...   \n",
              "28  Ang Mo Kio Sers: New options of replacement fl...   \n",
              "29  Will Russia ‘punish’ Singapore, Japan and othe...   \n",
              "30  Adulting 101: I take revenge on my lack of fre...   \n",
              "31  Marquee, one of S'pore's largest clubs, jam pa...   \n",
              "32                             Chill evening in Bugis   \n",
              "33  Banana cake from Malaysia recalled over preser...   \n",
              "34  Posting on behalf! Lost cat around Keat Hong C...   \n",
              "35  Letter of the week: Proud of minister Shanmuga...   \n",
              "36  Singapore leaders congratulate China and Hong ...   \n",
              "37  Newly famous busker Jeff Ng apologises publicl...   \n",
              "38  /r/singapore random discussion and small quest...   \n",
              "39  Our moment together, how I wish it lasted forever   \n",
              "\n",
              "                                                 body      id  score  \\\n",
              "19                                                     vpu25e     51   \n",
              "20                                                     vprk5a    102   \n",
              "21                                                     vpr2u9    502   \n",
              "22                                                     vpqg1d    141   \n",
              "23                                                     vppp73     79   \n",
              "24                                                     vpoenl     73   \n",
              "25                                                     vpo8h3    150   \n",
              "26                                                     vpmr3y     11   \n",
              "27                                                     vpm4he      0   \n",
              "28                                                     vpltii     55   \n",
              "29                                                     vplt3c     39   \n",
              "30                                                     vpl35s    289   \n",
              "31                                                     vpj26e    168   \n",
              "32                                                     vpipye    792   \n",
              "33                                                     vpgeb0     53   \n",
              "34                                                     vpgbon    252   \n",
              "35                                                     vpg6y7      0   \n",
              "36                                                     vpg3bw      0   \n",
              "37                                                     vpfthc    622   \n",
              "38  Talk about your day. Anything goes, but subred...  vpc7dc      9   \n",
              "39                                                     vp4hyc     41   \n",
              "\n",
              "    upvote_ratio                       flair              created_time  \\\n",
              "19          0.88                        News 2022-07-02 23:21:06+08:00   \n",
              "20          0.91                        News 2022-07-02 21:14:30+08:00   \n",
              "21          0.91        Opinion / Fluff Post 2022-07-02 20:48:03+08:00   \n",
              "22          0.94  Tabloid/Low-quality source 2022-07-02 20:10:45+08:00   \n",
              "23          0.97                        News 2022-07-02 19:25:42+08:00   \n",
              "24          0.96                        News 2022-07-02 18:00:37+08:00   \n",
              "25          0.94  Tabloid/Low-quality source 2022-07-02 17:48:51+08:00   \n",
              "26          0.67        Opinion / Fluff Post 2022-07-02 16:04:34+08:00   \n",
              "27          0.41                        News 2022-07-02 15:20:12+08:00   \n",
              "28          0.93                        News 2022-07-02 14:59:34+08:00   \n",
              "29          0.79  Tabloid/Low-quality source 2022-07-02 14:58:42+08:00   \n",
              "30          0.96                        News 2022-07-02 14:09:49+08:00   \n",
              "31          0.92  Tabloid/Low-quality source 2022-07-02 12:03:18+08:00   \n",
              "32          0.98              Photos, Videos 2022-07-02 11:43:13+08:00   \n",
              "33          0.93                        News 2022-07-02 09:33:31+08:00   \n",
              "34          0.96                 I Made This 2022-07-02 09:29:29+08:00   \n",
              "35          0.39        Opinion / Fluff Post 2022-07-02 09:22:03+08:00   \n",
              "36          0.42                        News 2022-07-02 09:16:34+08:00   \n",
              "37          0.95  Tabloid/Low-quality source 2022-07-02 09:02:07+08:00   \n",
              "38          0.80                        None 2022-07-02 06:00:11+08:00   \n",
              "39          0.73              Photos, Videos 2022-07-02 00:11:33+08:00   \n",
              "\n",
              "    num_comments                author  author_link_karma  \\\n",
              "19            10     MicrotechAnalysis             126163   \n",
              "20            17        Jammy_buttons2              67724   \n",
              "21           281                 yrt97              18616   \n",
              "22            61     MicrotechAnalysis             126163   \n",
              "23            17           Jonnyboo234              10346   \n",
              "24            32        Thefunincaifun              22120   \n",
              "25            34  lobangbecausenomoney              13400   \n",
              "26             2        AsparagusTamer                200   \n",
              "27            49                 Lu5ck               4870   \n",
              "28            25        Jammy_buttons2              67724   \n",
              "29            24  uncomfortablehistory               5063   \n",
              "30            31     MicrotechAnalysis             126163   \n",
              "31            53            unliketrap               4318   \n",
              "32            54             hkstachee              29152   \n",
              "33             1           mailchecker               3729   \n",
              "34            18                 zibin              27966   \n",
              "35            33                 yrt97              18616   \n",
              "36            18            homerulez7               3227   \n",
              "37           259          risingsuncoc              36486   \n",
              "38           673         AutoModerator               1000   \n",
              "39             6             SummerPop               4085   \n",
              "\n",
              "                                                  url  \n",
              "19  https://www.channelnewsasia.com/sport/para-ath...  \n",
              "20  https://www.straitstimes.com/singapore/ndp-nat...  \n",
              "21  https://www.straitstimes.com/opinion/a-single-...  \n",
              "22  https://mothership.sg/2022/07/zhu-su-three-arr...  \n",
              "23  https://www.straitstimes.com/singapore/courts-...  \n",
              "24  https://www.straitstimes.com/singapore/close-t...  \n",
              "25  https://theindependent.sg/buyer-of-s41-6m-tamp...  \n",
              "26  https://sg.finance.yahoo.com/news/singapore-to...  \n",
              "27  https://www.asiaone.com/lifestyle/hes-changed-...  \n",
              "28  https://www.todayonline.com/singapore/ang-mo-k...  \n",
              "29  https://www.scmp.com/week-asia/politics/articl...  \n",
              "30  https://www.todayonline.com/singapore/adulting...  \n",
              "31  https://mothership.sg/2022/07/marquee-reopen-c...  \n",
              "32                    https://v.redd.it/gdc5nssbt2991  \n",
              "33  https://www.channelnewsasia.com/singapore/sfa-...  \n",
              "34                https://i.redd.it/8z4nn5o952991.jpg  \n",
              "35  https://www.straitstimes.com/opinion/forum/let...  \n",
              "36  https://www.channelnewsasia.com/asia/singapore...  \n",
              "37  https://mothership.sg/2022/07/cathay-busker-je...  \n",
              "38  https://www.reddit.com/r/singapore/comments/vp...  \n",
              "39                https://i.redd.it/urnh67iydz891.jpg  "
            ]
          },
          "execution_count": 100,
          "metadata": {},
          "output_type": "execute_result"
        }
      ],
      "source": [
        "past_24_posts"
      ]
    },
    {
      "cell_type": "code",
      "execution_count": 101,
      "metadata": {
        "id": "sLVhlo8m4_vc"
      },
      "outputs": [],
      "source": [
        "past_24_posts.to_csv('test2to3.csv')"
      ]
    },
    {
      "cell_type": "code",
      "execution_count": null,
      "metadata": {
        "id": "ThREnzOT4_vd",
        "outputId": "c552adbb-5146-4b37-96d0-b7939892b5b3"
      },
      "outputs": [
        {
          "data": {
            "text/plain": [
              "96"
            ]
          },
          "execution_count": 29,
          "metadata": {},
          "output_type": "execute_result"
        }
      ],
      "source": []
    },
    {
      "cell_type": "code",
      "execution_count": null,
      "metadata": {
        "id": "BsoRuDDc4_vd"
      },
      "outputs": [],
      "source": []
    }
  ],
  "metadata": {
    "colab": {
      "name": "reddittest.ipynb",
      "provenance": [],
      "toc_visible": true
    },
    "kernelspec": {
      "display_name": "Python 3.10.5 64-bit",
      "language": "python",
      "name": "python3"
    },
    "language_info": {
      "codemirror_mode": {
        "name": "ipython",
        "version": 3
      },
      "file_extension": ".py",
      "mimetype": "text/x-python",
      "name": "python",
      "nbconvert_exporter": "python",
      "pygments_lexer": "ipython3",
      "version": "3.10.5"
    },
    "orig_nbformat": 4,
    "vscode": {
      "interpreter": {
        "hash": "d64bf8c1f77516defb4fb4ab4f063b0bc722209f576d0ea7fbdd74a3494d5225"
      }
    }
  },
  "nbformat": 4,
  "nbformat_minor": 0
}
