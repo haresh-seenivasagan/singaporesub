{
  "cells": [
    {
      "cell_type": "code",
      "execution_count": null,
      "metadata": {
        "id": "Ag06tHqt4_vP"
      },
      "outputs": [],
      "source": [
        "import praw\n",
        "import  sys\n",
        "from praw.models import MoreComments\n",
        "import pandas as pd\n",
        "import pprint\n",
        "from datetime import datetime , timedelta ,date ,time\n",
        "import pytz\n",
        "from  pathlib import Path"
      ]
    },
    {
      "cell_type": "code",
      "execution_count": null,
      "metadata": {
        "colab": {
          "base_uri": "https://localhost:8080/"
        },
        "id": "PRx-t-_S5Kcn",
        "outputId": "01805e6b-05d7-4644-ec82-7fcab90d40f3"
      },
      "outputs": [],
      "source": [
        "#! pip install praw"
      ]
    },
    {
      "cell_type": "code",
      "execution_count": null,
      "metadata": {
        "id": "PFjvJ4gJ4_vR"
      },
      "outputs": [],
      "source": [
        "reddit = praw.Reddit(\n",
        "        client_id=\"Mf3cdHYsO1pTQ8SXMJWF6Q\",\n",
        "        client_secret=\"_5qEJwsVcGp1HUneUvTPOQfeNvWeKQ\",\n",
        "        user_agent=\"Collect to data visualize r/singapore\",#  description\n",
        "        password=\"Haresh_2255\",            \n",
        "        username=\"Apart_climate_8516\" # TODO make creds secure\n",
        "        ,check_for_async=False)"
      ]
    },
    {
      "cell_type": "code",
      "execution_count": null,
      "metadata": {
        "colab": {
          "base_uri": "https://localhost:8080/"
        },
        "id": "_YUzcet64_vS",
        "outputId": "eb7cfb8e-71cf-4f14-d05e-d1aea0340abc"
      },
      "outputs": [],
      "source": [
        "print(reddit.read_only)"
      ]
    },
    {
      "cell_type": "code",
      "execution_count": null,
      "metadata": {
        "colab": {
          "base_uri": "https://localhost:8080/"
        },
        "id": "EuPaFUaB4_vV",
        "outputId": "f29c89f8-2788-4b7e-f462-8cede0b5282b"
      },
      "outputs": [],
      "source": [
        "singaporesub = reddit.subreddit(\"singapore\")\n",
        "comment_detail = []\n",
        "counter = 0"
      ]
    },
    {
      "cell_type": "code",
      "execution_count": null,
      "metadata": {
        "colab": {
          "base_uri": "https://localhost:8080/"
        },
        "id": "IjheGBMI4_vW",
        "outputId": "b537be15-66bd-432b-dced-6cdfbc559039"
      },
      "outputs": [],
      "source": [
        "\n",
        "for post in singaporesub.new(limit=None):\n",
        "    \n",
        "    if post.author.id == None:\n",
        "       continue\n",
        "    else: \n",
        "      print(post.id, \" this is a post\")\n",
        "      counter = 0       \n",
        "      #posts.append([post.title,post.selftext,post.id,post.score,post.upvote_ratio,post.link_flair_text,post.created_utc,post.num_comments,post.author.id,post.url,post.distinguished,post.is_original_content])\n",
        "      #author_details.append([post.author.id,post.id,post.author,post.author.link_karma,post.author.comment_karma,post.author.created_utc,post.author.is_gold,post.author.is_mod,post.author.is_employee,post.author.is_suspended])\n",
        "      post.comment_sort = \"top\"\n",
        "      comments = post.comments\n",
        "      for comm in comments:\n",
        "         \n",
        "         if counter == 20:\n",
        "            break\n",
        "         \n",
        "         \n",
        "         print(comm)\n",
        "         print(type(comm))\n",
        "         \n",
        "         if isinstance(comm, (MoreComments)) or isinstance(comm,type(None)) :\n",
        "   \n",
        "            continue\n",
        "         if comm.author is not None:\n",
        "            comment_detail.append([comm.id,post.id,comm.author.id,comm.body,comm.created_utc,comm.score,comm.edited])\n",
        "            counter+=1\n",
        "    #     print(comm.body)\n",
        "    #     print(comm.score)\n",
        "    #     print(comm.link_id)\n",
        "    #     print(comm.id)\n",
        "\n",
        "comment_details = pd.DataFrame(comment_detail,columns=['comment_id', 'post_id', 'author_id', 'body', 'created_date', 'score', 'edited'])\n",
        "\n",
        "\n",
        "    # print(submission.title)|\n",
        "    # print(submission.selftext)\n",
        "    # # Output: the submission's title\n",
        "    # print(submission.score)\n",
        "    # print(submission.upvote_ratio)\n",
        "    # # Output: the submission's score\n",
        "    # print(submission.id)\n",
        "    # # Output: the submission's ID\n",
        "    # print(submission.url)\n",
        "    # print(submission.link_flair_text)\n",
        "    # print(submission.num_comments)\n",
        "    # print(submission.created_utc)\n",
        "\n",
        "    # print(submission.author)\n",
        "    # print(submission.author.link_karma)\n",
        "    # print(submission.author.is_gold)\n",
        "    # print(submission.author.is_mod)\n",
        "    # print(submission.author.is_employee)\n",
        "    \n",
        "       \n",
        "    \n",
        "  \n",
        "    \n",
        "    \n",
        "    #    TODO   FIGURE OUT COMMENT FOREST\n",
        "    # TODO comment sorting\n",
        "    # TODO does the script need argumen for date ?\n",
        "    # TODO  can anythin be done with the author \n",
        "\n",
        "    \n",
        "  \n"
      ]
    },
    {
      "cell_type": "code",
      "execution_count": null,
      "metadata": {
        "colab": {
          "base_uri": "https://localhost:8080/"
        },
        "id": "1dvShk8w4_vX",
        "outputId": "b1678c3f-23ab-4626-9d07-eb5014e2bb35"
      },
      "outputs": [],
      "source": [
        "print(comment_details.head())\n",
        "print(len(comment_details))"
      ]
    },
    {
      "cell_type": "code",
      "execution_count": null,
      "metadata": {
        "id": "-tQSQ_GE4_vZ"
      },
      "outputs": [],
      "source": [
        "comment_details['created_date']=(pd.to_datetime(comment_details['created_date'],unit='s',utc=True))\n",
        "comment_details[\"created_date\"] =comment_details[\"created_date\"].dt.tz_convert('Asia/Singapore')"
      ]
    },
    {
      "cell_type": "code",
      "execution_count": null,
      "metadata": {},
      "outputs": [],
      "source": [
        "filepath = Path('C:/Users/hares/singaporesub/Data/july19_extract_comments.csv')"
      ]
    },
    {
      "cell_type": "code",
      "execution_count": null,
      "metadata": {
        "colab": {
          "base_uri": "https://localhost:8080/"
        },
        "id": "GHsLkAXJ5G38",
        "outputId": "166c9d4a-5b98-47ce-aef5-0d3f54e1307b"
      },
      "outputs": [],
      "source": [
        "comment_details.to_csv(filepath,index=False)"
      ]
    },
    {
      "cell_type": "code",
      "execution_count": null,
      "metadata": {},
      "outputs": [],
      "source": [
        "comment_details.nunique()"
      ]
    },
    {
      "cell_type": "code",
      "execution_count": null,
      "metadata": {
        "id": "PnSEYGsBeTFR"
      },
      "outputs": [],
      "source": [
        "tz = pytz.timezone(\"Asia/Singapore\")"
      ]
    },
    {
      "cell_type": "code",
      "execution_count": null,
      "metadata": {
        "colab": {
          "base_uri": "https://localhost:8080/"
        },
        "id": "CrNW7TpA4_vZ",
        "outputId": "04dddf37-20ea-4c90-c7a6-0b0b575c0ffe"
      },
      "outputs": [],
      "source": [
        "today = date.today()\n",
        "midnight_local = datetime.combine(today, time())\n",
        "sing_midnight = tz.localize(midnight_local)\n",
        "print(today)\n",
        "print(midnight_local)\n",
        "yesterday = sing_midnight - timedelta(days=1)\n",
        "begining = sing_midnight\n"
      ]
    },
    {
      "cell_type": "code",
      "execution_count": null,
      "metadata": {
        "id": "Zig5I8j-fZy8"
      },
      "outputs": [],
      "source": [
        "mask =  (posts['created_time'] > yesterday) & (posts['created_time'] <= begining)"
      ]
    },
    {
      "cell_type": "code",
      "execution_count": null,
      "metadata": {
        "id": "WYdZ1r_n4_va"
      },
      "outputs": [],
      "source": [
        "past_24_posts = posts[mask]"
      ]
    },
    {
      "cell_type": "code",
      "execution_count": null,
      "metadata": {
        "colab": {
          "base_uri": "https://localhost:8080/",
          "height": 1000
        },
        "id": "bX-nTt0I4_vb",
        "outputId": "1f7b30e5-1065-44c3-98af-a3d2648b4977"
      },
      "outputs": [],
      "source": [
        "past_24_posts"
      ]
    },
    {
      "cell_type": "code",
      "execution_count": null,
      "metadata": {
        "id": "sLVhlo8m4_vc"
      },
      "outputs": [],
      "source": []
    },
    {
      "cell_type": "code",
      "execution_count": null,
      "metadata": {
        "id": "BsoRuDDc4_vd"
      },
      "outputs": [],
      "source": []
    }
  ],
  "metadata": {
    "colab": {
      "name": "reddittest.ipynb",
      "provenance": [],
      "toc_visible": true
    },
    "kernelspec": {
      "display_name": "Python 3.10.5 64-bit",
      "language": "python",
      "name": "python3"
    },
    "language_info": {
      "codemirror_mode": {
        "name": "ipython",
        "version": 3
      },
      "file_extension": ".py",
      "mimetype": "text/x-python",
      "name": "python",
      "nbconvert_exporter": "python",
      "pygments_lexer": "ipython3",
      "version": "3.10.5"
    },
    "orig_nbformat": 4,
    "vscode": {
      "interpreter": {
        "hash": "d64bf8c1f77516defb4fb4ab4f063b0bc722209f576d0ea7fbdd74a3494d5225"
      }
    }
  },
  "nbformat": 4,
  "nbformat_minor": 0
}
