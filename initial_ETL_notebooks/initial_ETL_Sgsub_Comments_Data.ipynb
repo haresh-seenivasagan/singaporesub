{
  "cells": [
    {
      "cell_type": "code",
      "execution_count": 1,
      "metadata": {
        "id": "Ag06tHqt4_vP"
      },
      "outputs": [],
      "source": [
        "import praw\n",
        "import  sys\n",
        "from praw.models import MoreComments\n",
        "import pandas as pd\n",
        "import pprint\n",
        "from datetime import datetime , timedelta ,date ,time\n",
        "import pytz\n",
        "from  pathlib import Path"
      ]
    },
    {
      "cell_type": "code",
      "execution_count": 2,
      "metadata": {
        "colab": {
          "base_uri": "https://localhost:8080/"
        },
        "id": "PRx-t-_S5Kcn",
        "outputId": "01805e6b-05d7-4644-ec82-7fcab90d40f3"
      },
      "outputs": [],
      "source": [
        "#! pip install praw"
      ]
    },
    {
      "cell_type": "code",
      "execution_count": 3,
      "metadata": {
        "id": "PFjvJ4gJ4_vR"
      },
      "outputs": [],
      "source": [
        "reddit = praw.Reddit(\n",
        "        client_id=\"Mf3cdHYsO1pTQ8SXMJWF6Q\",\n",
        "        client_secret=\"_5qEJwsVcGp1HUneUvTPOQfeNvWeKQ\",\n",
        "        user_agent=\"Collect to data visualize r/singapore\",#  description\n",
        "        password=\"Haresh_2255\",            \n",
        "        username=\"Apart_climate_8516\" # TODO make creds secure\n",
        "        ,check_for_async=False)"
      ]
    },
    {
      "cell_type": "code",
      "execution_count": 4,
      "metadata": {
        "colab": {
          "base_uri": "https://localhost:8080/"
        },
        "id": "_YUzcet64_vS",
        "outputId": "eb7cfb8e-71cf-4f14-d05e-d1aea0340abc"
      },
      "outputs": [
        {
          "name": "stdout",
          "output_type": "stream",
          "text": [
            "False\n"
          ]
        }
      ],
      "source": [
        "print(reddit.read_only)"
      ]
    },
    {
      "cell_type": "code",
      "execution_count": 15,
      "metadata": {
        "colab": {
          "base_uri": "https://localhost:8080/"
        },
        "id": "EuPaFUaB4_vV",
        "outputId": "f29c89f8-2788-4b7e-f462-8cede0b5282b"
      },
      "outputs": [],
      "source": [
        "singaporesub = reddit.subreddit(\"singapore\")\n",
        "comment_detail = []\n",
        "counter = 0"
      ]
    },
    {
      "cell_type": "code",
      "execution_count": 16,
      "metadata": {
        "colab": {
          "base_uri": "https://localhost:8080/"
        },
        "id": "IjheGBMI4_vW",
        "outputId": "b537be15-66bd-432b-dced-6cdfbc559039"
      },
      "outputs": [
        {
          "name": "stdout",
          "output_type": "stream",
          "text": [
            "w18mvi  this is a post\n",
            "igitoob\n",
            "<class 'praw.models.reddit.comment.Comment'>\n",
            "igisidb\n",
            "<class 'praw.models.reddit.comment.Comment'>\n",
            "igix2ll\n",
            "<class 'praw.models.reddit.comment.Comment'>\n",
            "igj4j3r\n",
            "<class 'praw.models.reddit.comment.Comment'>\n",
            "igj5i72\n",
            "<class 'praw.models.reddit.comment.Comment'>\n",
            "igixdjn\n",
            "<class 'praw.models.reddit.comment.Comment'>\n",
            "igirpnl\n",
            "<class 'praw.models.reddit.comment.Comment'>\n",
            "w18cyc  this is a post\n",
            "igiq4o2\n",
            "<class 'praw.models.reddit.comment.Comment'>\n",
            "igitdm6\n",
            "<class 'praw.models.reddit.comment.Comment'>\n",
            "igis0oy\n",
            "<class 'praw.models.reddit.comment.Comment'>\n",
            "igitigu\n",
            "<class 'praw.models.reddit.comment.Comment'>\n",
            "w17pok  this is a post\n",
            "igitljt\n",
            "<class 'praw.models.reddit.comment.Comment'>\n",
            "igim9b2\n",
            "<class 'praw.models.reddit.comment.Comment'>\n",
            "igj2c4h\n",
            "<class 'praw.models.reddit.comment.Comment'>\n",
            "igis3oo\n",
            "<class 'praw.models.reddit.comment.Comment'>\n",
            "w16zkq  this is a post\n",
            "igijyyc\n",
            "<class 'praw.models.reddit.comment.Comment'>\n",
            "igimva4\n",
            "<class 'praw.models.reddit.comment.Comment'>\n",
            "igin6cz\n",
            "<class 'praw.models.reddit.comment.Comment'>\n",
            "igiolbj\n",
            "<class 'praw.models.reddit.comment.Comment'>\n",
            "igipb3w\n",
            "<class 'praw.models.reddit.comment.Comment'>\n",
            "igipjrg\n",
            "<class 'praw.models.reddit.comment.Comment'>\n",
            "igis12s\n",
            "<class 'praw.models.reddit.comment.Comment'>\n",
            "igiiapv\n",
            "<class 'praw.models.reddit.comment.Comment'>\n",
            "igizk8q\n",
            "<class 'praw.models.reddit.comment.Comment'>\n",
            "igikhz0\n",
            "<class 'praw.models.reddit.comment.Comment'>\n",
            "w16ebx  this is a post\n",
            "igiep98\n",
            "<class 'praw.models.reddit.comment.Comment'>\n",
            "igip6zv\n",
            "<class 'praw.models.reddit.comment.Comment'>\n",
            "w161z0  this is a post\n",
            "igiefjh\n",
            "<class 'praw.models.reddit.comment.Comment'>\n",
            "igish49\n",
            "<class 'praw.models.reddit.comment.Comment'>\n",
            "igicsx2\n",
            "<class 'praw.models.reddit.comment.Comment'>\n",
            "w15eoc  this is a post\n",
            "igiar16\n",
            "<class 'praw.models.reddit.comment.Comment'>\n",
            "igia0oy\n",
            "<class 'praw.models.reddit.comment.Comment'>\n",
            "igiad6l\n",
            "<class 'praw.models.reddit.comment.Comment'>\n",
            "igigiz6\n",
            "<class 'praw.models.reddit.comment.Comment'>\n",
            "igia62a\n",
            "<class 'praw.models.reddit.comment.Comment'>\n",
            "igic5xv\n",
            "<class 'praw.models.reddit.comment.Comment'>\n",
            "igietdc\n",
            "<class 'praw.models.reddit.comment.Comment'>\n",
            "igiar9e\n",
            "<class 'praw.models.reddit.comment.Comment'>\n",
            "igib7p9\n",
            "<class 'praw.models.reddit.comment.Comment'>\n",
            "igihzxu\n",
            "<class 'praw.models.reddit.comment.Comment'>\n",
            "w15e2a  this is a post\n",
            "igibfla\n",
            "<class 'praw.models.reddit.comment.Comment'>\n",
            "igieb59\n",
            "<class 'praw.models.reddit.comment.Comment'>\n",
            "igih7hi\n",
            "<class 'praw.models.reddit.comment.Comment'>\n",
            "igieuqp\n",
            "<class 'praw.models.reddit.comment.Comment'>\n",
            "igid91u\n",
            "<class 'praw.models.reddit.comment.Comment'>\n",
            "igii8tz\n",
            "<class 'praw.models.reddit.comment.Comment'>\n",
            "igipjh8\n",
            "<class 'praw.models.reddit.comment.Comment'>\n",
            "igiih18\n",
            "<class 'praw.models.reddit.comment.Comment'>\n",
            "igig1i3\n",
            "<class 'praw.models.reddit.comment.Comment'>\n",
            "igiiqye\n",
            "<class 'praw.models.reddit.comment.Comment'>\n",
            "w15a9k  this is a post\n",
            "igigtii\n",
            "<class 'praw.models.reddit.comment.Comment'>\n",
            "igi8xex\n",
            "<class 'praw.models.reddit.comment.Comment'>\n",
            "igidzsc\n",
            "<class 'praw.models.reddit.comment.Comment'>\n",
            "igiw8ca\n",
            "<class 'praw.models.reddit.comment.Comment'>\n",
            "igj2ifv\n",
            "<class 'praw.models.reddit.comment.Comment'>\n",
            "w159oo  this is a post\n",
            "w14os3  this is a post\n",
            "igi9ts0\n",
            "<class 'praw.models.reddit.comment.Comment'>\n",
            "igi663g\n",
            "<class 'praw.models.reddit.comment.Comment'>\n",
            "igi81jj\n",
            "<class 'praw.models.reddit.comment.Comment'>\n",
            "igi66ow\n",
            "<class 'praw.models.reddit.comment.Comment'>\n",
            "igiicjq\n",
            "<class 'praw.models.reddit.comment.Comment'>\n",
            "igi85fi\n",
            "<class 'praw.models.reddit.comment.Comment'>\n",
            "igikhjm\n",
            "<class 'praw.models.reddit.comment.Comment'>\n",
            "w14ahz  this is a post\n",
            "igi3ztm\n",
            "<class 'praw.models.reddit.comment.Comment'>\n"
          ]
        }
      ],
      "source": [
        "\n",
        "for post in singaporesub.new(limit=12):\n",
        "    \n",
        "    if post.author.id == None:\n",
        "       continue\n",
        "    else: \n",
        "      print(post.id, \" this is a post\")\n",
        "      counter = 0       \n",
        "      #posts.append([post.title,post.selftext,post.id,post.score,post.upvote_ratio,post.link_flair_text,post.created_utc,post.num_comments,post.author.id,post.url,post.distinguished,post.is_original_content])\n",
        "      #author_details.append([post.author.id,post.id,post.author,post.author.link_karma,post.author.comment_karma,post.author.created_utc,post.author.is_gold,post.author.is_mod,post.author.is_employee,post.author.is_suspended])\n",
        "      post.comment_sort = \"top\"\n",
        "      comments = post.comments\n",
        "      for comm in comments:\n",
        "         \n",
        "         if counter == 10:\n",
        "            break\n",
        "         \n",
        "         \n",
        "         print(comm)\n",
        "         print(type(comm))\n",
        "         \n",
        "         if isinstance(comm, (MoreComments)) or isinstance(comm,type(None)) :\n",
        "   \n",
        "            continue\n",
        "         if comm.author is not None:\n",
        "            comment_detail.append([comm.id,post.id,comm.author.id,comm.body,comm.created_utc,comm.score])\n",
        "            counter+=1\n",
        "    #     print(comm.body)\n",
        "    #     print(comm.score)\n",
        "    #     print(comm.link_id)\n",
        "    #     print(comm.id)\n",
        "\n",
        "comment_details = pd.DataFrame(comment_detail,columns=['comment_id', 'post_id', 'author_id', 'body', 'created_date', 'score', 'edited'])\n",
        "\n",
        "\n",
        "    # print(submission.title)|\n",
        "    # print(submission.selftext)\n",
        "    # # Output: the submission's title\n",
        "    # print(submission.score)\n",
        "    # print(submission.upvote_ratio)\n",
        "    # # Output: the submission's score\n",
        "    # print(submission.id)\n",
        "    # # Output: the submission's ID\n",
        "    # print(submission.url)\n",
        "    # print(submission.link_flair_text)\n",
        "    # print(submission.num_comments)\n",
        "    # print(submission.created_utc)\n",
        "\n",
        "    # print(submission.author)\n",
        "    # print(submission.author.link_karma)\n",
        "    # print(submission.author.is_gold)\n",
        "    # print(submission.author.is_mod)\n",
        "    # print(submission.author.is_employee)\n",
        "    \n",
        "       \n",
        "    \n",
        "  \n",
        "    \n",
        "    \n",
        "    #    TODO   FIGURE OUT COMMENT FOREST\n",
        "    # TODO comment sorting\n",
        "    # TODO does the script need argumen for date ?\n",
        "    # TODO  can anythin be done with the author \n",
        "\n",
        "    \n",
        "  \n"
      ]
    },
    {
      "cell_type": "code",
      "execution_count": 17,
      "metadata": {
        "colab": {
          "base_uri": "https://localhost:8080/"
        },
        "id": "1dvShk8w4_vX",
        "outputId": "b1678c3f-23ab-4626-9d07-eb5014e2bb35"
      },
      "outputs": [
        {
          "name": "stdout",
          "output_type": "stream",
          "text": [
            "  comment_id post_id author_id  \\\n",
            "0    igitoob  w18mvi  o9gm3kbr   \n",
            "1    igisidb  w18mvi  me9qlj1h   \n",
            "2    igix2ll  w18mvi   qcs0sa7   \n",
            "3    igj4j3r  w18mvi     3h0oa   \n",
            "4    igj5i72  w18mvi  3r3tfvu5   \n",
            "\n",
            "                                                body  created_date  score  \\\n",
            "0  1. Lazy piece of shit 2. That's meat which cam...  1.658069e+09     14   \n",
            "1             Did u see the person who put it there?  1.658069e+09      3   \n",
            "2  Sometimes you just can't change stupid no matt...  1.658071e+09      3   \n",
            "3  The worse are those who put frozen items into ...  1.658074e+09      1   \n",
            "4  you know, if you dw an item and lazy put back ...  1.658074e+09      1   \n",
            "\n",
            "  edited  \n",
            "0  False  \n",
            "1  False  \n",
            "2  False  \n",
            "3  False  \n",
            "4  False  \n",
            "63\n"
          ]
        }
      ],
      "source": [
        "print(comment_details.head())\n",
        "print(len(comment_details))"
      ]
    },
    {
      "cell_type": "code",
      "execution_count": 18,
      "metadata": {
        "id": "-tQSQ_GE4_vZ"
      },
      "outputs": [],
      "source": [
        "comment_details['created_date']=(pd.to_datetime(comment_details['created_date'],unit='s',utc=True))\n",
        "comment_details[\"created_date\"] =comment_details[\"created_date\"].dt.tz_convert('Asia/Singapore')"
      ]
    },
    {
      "cell_type": "code",
      "execution_count": 19,
      "metadata": {},
      "outputs": [],
      "source": [
        "filepath = Path('C:/Users/hares/singaporesub/Data/comments_extract_12_2.csv')"
      ]
    },
    {
      "cell_type": "code",
      "execution_count": 20,
      "metadata": {
        "colab": {
          "base_uri": "https://localhost:8080/"
        },
        "id": "GHsLkAXJ5G38",
        "outputId": "166c9d4a-5b98-47ce-aef5-0d3f54e1307b"
      },
      "outputs": [],
      "source": [
        "comment_details.to_csv(filepath,index=False)"
      ]
    },
    {
      "cell_type": "code",
      "execution_count": null,
      "metadata": {},
      "outputs": [],
      "source": [
        "comment_details.nunique()"
      ]
    },
    {
      "cell_type": "code",
      "execution_count": null,
      "metadata": {
        "id": "PnSEYGsBeTFR"
      },
      "outputs": [],
      "source": [
        "tz = pytz.timezone(\"Asia/Singapore\")"
      ]
    },
    {
      "cell_type": "code",
      "execution_count": null,
      "metadata": {
        "colab": {
          "base_uri": "https://localhost:8080/"
        },
        "id": "CrNW7TpA4_vZ",
        "outputId": "04dddf37-20ea-4c90-c7a6-0b0b575c0ffe"
      },
      "outputs": [],
      "source": [
        "today = date.today()\n",
        "midnight_local = datetime.combine(today, time())\n",
        "sing_midnight = tz.localize(midnight_local)\n",
        "print(today)\n",
        "print(midnight_local)\n",
        "yesterday = sing_midnight - timedelta(days=1)\n",
        "begining = sing_midnight\n"
      ]
    },
    {
      "cell_type": "code",
      "execution_count": null,
      "metadata": {
        "id": "Zig5I8j-fZy8"
      },
      "outputs": [],
      "source": [
        "mask =  (posts['created_time'] > yesterday) & (posts['created_time'] <= begining)"
      ]
    },
    {
      "cell_type": "code",
      "execution_count": null,
      "metadata": {
        "id": "WYdZ1r_n4_va"
      },
      "outputs": [],
      "source": [
        "past_24_posts = posts[mask]"
      ]
    },
    {
      "cell_type": "code",
      "execution_count": null,
      "metadata": {
        "colab": {
          "base_uri": "https://localhost:8080/",
          "height": 1000
        },
        "id": "bX-nTt0I4_vb",
        "outputId": "1f7b30e5-1065-44c3-98af-a3d2648b4977"
      },
      "outputs": [],
      "source": [
        "past_24_posts"
      ]
    },
    {
      "cell_type": "code",
      "execution_count": null,
      "metadata": {
        "id": "sLVhlo8m4_vc"
      },
      "outputs": [],
      "source": []
    },
    {
      "cell_type": "code",
      "execution_count": null,
      "metadata": {
        "id": "BsoRuDDc4_vd"
      },
      "outputs": [],
      "source": []
    }
  ],
  "metadata": {
    "colab": {
      "name": "reddittest.ipynb",
      "provenance": [],
      "toc_visible": true
    },
    "kernelspec": {
      "display_name": "Python 3.10.5 64-bit",
      "language": "python",
      "name": "python3"
    },
    "language_info": {
      "codemirror_mode": {
        "name": "ipython",
        "version": 3
      },
      "file_extension": ".py",
      "mimetype": "text/x-python",
      "name": "python",
      "nbconvert_exporter": "python",
      "pygments_lexer": "ipython3",
      "version": "3.10.5"
    },
    "orig_nbformat": 4,
    "vscode": {
      "interpreter": {
        "hash": "d64bf8c1f77516defb4fb4ab4f063b0bc722209f576d0ea7fbdd74a3494d5225"
      }
    }
  },
  "nbformat": 4,
  "nbformat_minor": 0
}
