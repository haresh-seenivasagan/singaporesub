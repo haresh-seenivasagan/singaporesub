{
  "cells": [
    {
      "cell_type": "code",
      "execution_count": 14,
      "metadata": {
        "id": "Ag06tHqt4_vP"
      },
      "outputs": [],
      "source": [
        "import praw\n",
        "import  sys\n",
        "from praw.models import MoreComments\n",
        "import pandas as pd\n",
        "import pprint\n",
        "from datetime import datetime , timedelta ,date ,time\n",
        "import pytz\n",
        "from pathlib import Path"
      ]
    },
    {
      "cell_type": "code",
      "execution_count": 15,
      "metadata": {
        "colab": {
          "base_uri": "https://localhost:8080/"
        },
        "id": "PRx-t-_S5Kcn",
        "outputId": "01805e6b-05d7-4644-ec82-7fcab90d40f3"
      },
      "outputs": [],
      "source": [
        "#! pip install praw"
      ]
    },
    {
      "cell_type": "code",
      "execution_count": 16,
      "metadata": {
        "id": "PFjvJ4gJ4_vR"
      },
      "outputs": [],
      "source": [
        "reddit = praw.Reddit(\n",
        "        client_id=\"Mf3cdHYsO1pTQ8SXMJWF6Q\",\n",
        "        client_secret=\"_5qEJwsVcGp1HUneUvTPOQfeNvWeKQ\",\n",
        "        user_agent=\"Collect to data visualize r/singapore\",#  description\n",
        "        password=\"Haresh_2255\",            \n",
        "        username=\"Apart_climate_8516\" # TODO make creds secure\n",
        "        ,check_for_async=False)"
      ]
    },
    {
      "cell_type": "code",
      "execution_count": 17,
      "metadata": {
        "colab": {
          "base_uri": "https://localhost:8080/"
        },
        "id": "_YUzcet64_vS",
        "outputId": "eb7cfb8e-71cf-4f14-d05e-d1aea0340abc"
      },
      "outputs": [
        {
          "name": "stdout",
          "output_type": "stream",
          "text": [
            "False\n"
          ]
        }
      ],
      "source": [
        "print(reddit.read_only)"
      ]
    },
    {
      "cell_type": "code",
      "execution_count": 18,
      "metadata": {
        "colab": {
          "base_uri": "https://localhost:8080/"
        },
        "id": "EuPaFUaB4_vV",
        "outputId": "f29c89f8-2788-4b7e-f462-8cede0b5282b"
      },
      "outputs": [],
      "source": [
        "singaporesub = reddit.subreddit(\"singapore\")\n",
        "author_details_list = []"
      ]
    },
    {
      "cell_type": "code",
      "execution_count": 19,
      "metadata": {
        "colab": {
          "base_uri": "https://localhost:8080/"
        },
        "id": "IjheGBMI4_vW",
        "outputId": "b537be15-66bd-432b-dced-6cdfbc559039"
      },
      "outputs": [
        {
          "ename": "AttributeError",
          "evalue": "'Redditor' object has no attribute 'id'",
          "output_type": "error",
          "traceback": [
            "\u001b[1;31m---------------------------------------------------------------------------\u001b[0m",
            "\u001b[1;31mAttributeError\u001b[0m                            Traceback (most recent call last)",
            "\u001b[1;32mc:\\Users\\hares\\singaporesub\\initial_ETL_notebooks\\initial_ETL_Sgsub_Author_Data.ipynb Cell 6\u001b[0m in \u001b[0;36m<cell line: 1>\u001b[1;34m()\u001b[0m\n\u001b[0;32m      <a href='vscode-notebook-cell:/c%3A/Users/hares/singaporesub/initial_ETL_notebooks/initial_ETL_Sgsub_Author_Data.ipynb#ch0000005?line=3'>4</a>\u001b[0m        \u001b[39mcontinue\u001b[39;00m\n\u001b[0;32m      <a href='vscode-notebook-cell:/c%3A/Users/hares/singaporesub/initial_ETL_notebooks/initial_ETL_Sgsub_Author_Data.ipynb#ch0000005?line=4'>5</a>\u001b[0m     \u001b[39melse\u001b[39;00m:        \n\u001b[0;32m      <a href='vscode-notebook-cell:/c%3A/Users/hares/singaporesub/initial_ETL_notebooks/initial_ETL_Sgsub_Author_Data.ipynb#ch0000005?line=5'>6</a>\u001b[0m        \u001b[39m#posts.append([post.title,post.selftext,post.id,post.score,post.upvote_ratio,post.link_flair_text,post.created_utc,post.num_comments,post.author.id,post.url,post.distinguished,post.is_original_content])\u001b[39;00m\n\u001b[1;32m----> <a href='vscode-notebook-cell:/c%3A/Users/hares/singaporesub/initial_ETL_notebooks/initial_ETL_Sgsub_Author_Data.ipynb#ch0000005?line=6'>7</a>\u001b[0m        author_details_list\u001b[39m.\u001b[39mappend([post\u001b[39m.\u001b[39;49mauthor\u001b[39m.\u001b[39;49mid,post\u001b[39m.\u001b[39mauthor\u001b[39m.\u001b[39mname,post\u001b[39m.\u001b[39mauthor\u001b[39m.\u001b[39mlink_karma,post\u001b[39m.\u001b[39mauthor\u001b[39m.\u001b[39mcomment_karma,post\u001b[39m.\u001b[39mauthor\u001b[39m.\u001b[39mcreated_utc,post\u001b[39m.\u001b[39mauthor\u001b[39m.\u001b[39mis_gold,post\u001b[39m.\u001b[39mauthor\u001b[39m.\u001b[39mis_mod,post\u001b[39m.\u001b[39mauthor\u001b[39m.\u001b[39mis_employee])\n\u001b[0;32m     <a href='vscode-notebook-cell:/c%3A/Users/hares/singaporesub/initial_ETL_notebooks/initial_ETL_Sgsub_Author_Data.ipynb#ch0000005?line=9'>10</a>\u001b[0m redditor_details \u001b[39m=\u001b[39m pd\u001b[39m.\u001b[39mDataFrame(author_details_list,columns\u001b[39m=\u001b[39m[\u001b[39m'\u001b[39m\u001b[39mauthor_id\u001b[39m\u001b[39m'\u001b[39m, \u001b[39m'\u001b[39m\u001b[39mauthor_name\u001b[39m\u001b[39m'\u001b[39m ,\u001b[39m'\u001b[39m\u001b[39mlink_karma\u001b[39m\u001b[39m'\u001b[39m, \u001b[39m'\u001b[39m\u001b[39mcomment_karma\u001b[39m\u001b[39m'\u001b[39m, \u001b[39m'\u001b[39m\u001b[39macc_creation_date\u001b[39m\u001b[39m'\u001b[39m, \u001b[39m'\u001b[39m\u001b[39mis_gold\u001b[39m\u001b[39m'\u001b[39m, \u001b[39m'\u001b[39m\u001b[39mis_mod\u001b[39m\u001b[39m'\u001b[39m,\u001b[39m'\u001b[39m\u001b[39mis_employee\u001b[39m\u001b[39m'\u001b[39m])\n\u001b[0;32m     <a href='vscode-notebook-cell:/c%3A/Users/hares/singaporesub/initial_ETL_notebooks/initial_ETL_Sgsub_Author_Data.ipynb#ch0000005?line=10'>11</a>\u001b[0m \u001b[39mprint\u001b[39m(\u001b[39mlen\u001b[39m(redditor_details))\n",
            "File \u001b[1;32mc:\\Users\\hares\\AppData\\Local\\Programs\\Python\\Python310\\lib\\site-packages\\praw\\models\\reddit\\base.py:35\u001b[0m, in \u001b[0;36mRedditBase.__getattr__\u001b[1;34m(self, attribute)\u001b[0m\n\u001b[0;32m     33\u001b[0m \u001b[39mif\u001b[39;00m \u001b[39mnot\u001b[39;00m attribute\u001b[39m.\u001b[39mstartswith(\u001b[39m\"\u001b[39m\u001b[39m_\u001b[39m\u001b[39m\"\u001b[39m) \u001b[39mand\u001b[39;00m \u001b[39mnot\u001b[39;00m \u001b[39mself\u001b[39m\u001b[39m.\u001b[39m_fetched:\n\u001b[0;32m     34\u001b[0m     \u001b[39mself\u001b[39m\u001b[39m.\u001b[39m_fetch()\n\u001b[1;32m---> 35\u001b[0m     \u001b[39mreturn\u001b[39;00m \u001b[39mgetattr\u001b[39;49m(\u001b[39mself\u001b[39;49m, attribute)\n\u001b[0;32m     36\u001b[0m \u001b[39mraise\u001b[39;00m \u001b[39mAttributeError\u001b[39;00m(\n\u001b[0;32m     37\u001b[0m     \u001b[39mf\u001b[39m\u001b[39m\"\u001b[39m\u001b[39m{\u001b[39;00m\u001b[39mself\u001b[39m\u001b[39m.\u001b[39m\u001b[39m__class__\u001b[39m\u001b[39m.\u001b[39m\u001b[39m__name__\u001b[39m\u001b[39m!r}\u001b[39;00m\u001b[39m object has no attribute \u001b[39m\u001b[39m{\u001b[39;00mattribute\u001b[39m!r}\u001b[39;00m\u001b[39m\"\u001b[39m\n\u001b[0;32m     38\u001b[0m )\n",
            "File \u001b[1;32mc:\\Users\\hares\\AppData\\Local\\Programs\\Python\\Python310\\lib\\site-packages\\praw\\models\\reddit\\base.py:36\u001b[0m, in \u001b[0;36mRedditBase.__getattr__\u001b[1;34m(self, attribute)\u001b[0m\n\u001b[0;32m     34\u001b[0m     \u001b[39mself\u001b[39m\u001b[39m.\u001b[39m_fetch()\n\u001b[0;32m     35\u001b[0m     \u001b[39mreturn\u001b[39;00m \u001b[39mgetattr\u001b[39m(\u001b[39mself\u001b[39m, attribute)\n\u001b[1;32m---> 36\u001b[0m \u001b[39mraise\u001b[39;00m \u001b[39mAttributeError\u001b[39;00m(\n\u001b[0;32m     37\u001b[0m     \u001b[39mf\u001b[39m\u001b[39m\"\u001b[39m\u001b[39m{\u001b[39;00m\u001b[39mself\u001b[39m\u001b[39m.\u001b[39m\u001b[39m__class__\u001b[39m\u001b[39m.\u001b[39m\u001b[39m__name__\u001b[39m\u001b[39m!r}\u001b[39;00m\u001b[39m object has no attribute \u001b[39m\u001b[39m{\u001b[39;00mattribute\u001b[39m!r}\u001b[39;00m\u001b[39m\"\u001b[39m\n\u001b[0;32m     38\u001b[0m )\n",
            "\u001b[1;31mAttributeError\u001b[0m: 'Redditor' object has no attribute 'id'"
          ]
        }
      ],
      "source": [
        "\n",
        "for post in singaporesub.new(limit=None):\n",
        "    \n",
        "    if post.author.id == None:\n",
        "       continue\n",
        "    else:        \n",
        "       #posts.append([post.title,post.selftext,post.id,post.score,post.upvote_ratio,post.link_flair_text,post.created_utc,post.num_comments,post.author.id,post.url,post.distinguished,post.is_original_content])\n",
        "       author_details_list.append([post.author.id,post.author.name,post.author.link_karma,post.author.comment_karma,post.author.created_utc,post.author.is_gold,post.author.is_mod,post.author.is_employee])\n",
        "\n",
        "\n",
        "redditor_details = pd.DataFrame(author_details_list,columns=['author_id', 'author_name' ,'link_karma', 'comment_karma', 'acc_creation_date', 'is_gold', 'is_mod','is_employee'])\n",
        "print(len(redditor_details))\n",
        "\n",
        "    # print(submission.title)|\n",
        "    # print(submission.selftext)\n",
        "    # # Output: the submission's title\n",
        "    # print(submission.score)\n",
        "    # print(submission.upvote_ratio)\n",
        "    # # Output: the submission's score\n",
        "    # print(submission.id)\n",
        "    # # Output: the submission's ID\n",
        "    # print(submission.url)\n",
        "    # print(submission.link_flair_text)\n",
        "    # print(submission.num_comments)\n",
        "    # print(submission.created_utc)\n",
        "\n",
        "    # print(submission.author)\n",
        "    # print(submission.author.link_karma)\n",
        "    # print(submission.author.is_gold)\n",
        "    # print(submission.author.is_mod)\n",
        "    # print(submission.author.is_employee)\n",
        "    # submission.comment_sort = \"confidence\"\n",
        "    # comments = submission.comments.list()\n",
        "    # for comm in comments:\n",
        "    #     if isinstance(comm, MoreComments):\n",
        "    #         continue\n",
        "    #     print(comm.body)\n",
        "    #     print(comm.score)\n",
        "    #     print(comm.link_id)\n",
        "    #     print(comm.id)\n",
        "       \n",
        "    \n",
        "  \n",
        "    \n",
        "    \n",
        "    #    TODO   FIGURE OUT COMMENT FOREST\n",
        "    # TODO comment sorting\n",
        "    # TODO does the script need argumen for date ?\n",
        "    # TODO  can anythin be done with the author \n",
        "\n",
        "    \n",
        "  \n"
      ]
    },
    {
      "cell_type": "code",
      "execution_count": null,
      "metadata": {
        "colab": {
          "base_uri": "https://localhost:8080/"
        },
        "id": "1dvShk8w4_vX",
        "outputId": "b1678c3f-23ab-4626-9d07-eb5014e2bb35"
      },
      "outputs": [],
      "source": [
        "print(redditor_details.head())"
      ]
    },
    {
      "cell_type": "code",
      "execution_count": null,
      "metadata": {
        "id": "-tQSQ_GE4_vZ"
      },
      "outputs": [],
      "source": [
        "redditor_details['acc_creation_date']=(pd.to_datetime(redditor_details['acc_creation_date'],unit='s',utc=True))"
      ]
    },
    {
      "cell_type": "code",
      "execution_count": null,
      "metadata": {
        "id": "XREn2uDObPFV"
      },
      "outputs": [],
      "source": [
        "redditor_details[\"acc_creation_date\"] = redditor_details[\"acc_creation_date\"].dt.tz_convert('Asia/Singapore')"
      ]
    },
    {
      "cell_type": "code",
      "execution_count": null,
      "metadata": {},
      "outputs": [],
      "source": [
        "redditor_details.head()"
      ]
    },
    {
      "cell_type": "code",
      "execution_count": null,
      "metadata": {},
      "outputs": [],
      "source": [
        "filepath = Path('C:/Users/hares/singaporesub/Data/july19_extract_author.csv')"
      ]
    },
    {
      "cell_type": "code",
      "execution_count": null,
      "metadata": {
        "colab": {
          "base_uri": "https://localhost:8080/"
        },
        "id": "GHsLkAXJ5G38",
        "outputId": "166c9d4a-5b98-47ce-aef5-0d3f54e1307b"
      },
      "outputs": [],
      "source": [
        "redditor_details.to_csv(filepath,index=False)"
      ]
    },
    {
      "cell_type": "code",
      "execution_count": null,
      "metadata": {
        "id": "ThREnzOT4_vd",
        "outputId": "c552adbb-5146-4b37-96d0-b7939892b5b3"
      },
      "outputs": [],
      "source": []
    },
    {
      "cell_type": "code",
      "execution_count": null,
      "metadata": {
        "id": "BsoRuDDc4_vd"
      },
      "outputs": [],
      "source": []
    }
  ],
  "metadata": {
    "colab": {
      "name": "reddittest.ipynb",
      "provenance": [],
      "toc_visible": true
    },
    "kernelspec": {
      "display_name": "Python 3.10.5 64-bit",
      "language": "python",
      "name": "python3"
    },
    "language_info": {
      "codemirror_mode": {
        "name": "ipython",
        "version": 3
      },
      "file_extension": ".py",
      "mimetype": "text/x-python",
      "name": "python",
      "nbconvert_exporter": "python",
      "pygments_lexer": "ipython3",
      "version": "3.10.5"
    },
    "orig_nbformat": 4,
    "vscode": {
      "interpreter": {
        "hash": "d64bf8c1f77516defb4fb4ab4f063b0bc722209f576d0ea7fbdd74a3494d5225"
      }
    }
  },
  "nbformat": 4,
  "nbformat_minor": 0
}
